{
 "cells": [
  {
   "cell_type": "code",
   "execution_count": 1,
   "metadata": {},
   "outputs": [],
   "source": [
    "import numpy as np\n",
    "import pandas as pd\n",
    "import matplotlib.pyplot as plt\n",
    "import seaborn as sns\n",
    "from sklearn.metrics import confusion_matrix\n",
    "from sklearn.metrics import accuracy_score \n",
    "from sklearn.metrics import classification_report \n",
    "%matplotlib inline"
   ]
  },
  {
   "cell_type": "code",
   "execution_count": 2,
   "metadata": {},
   "outputs": [
    {
     "name": "stdout",
     "output_type": "stream",
     "text": [
      "  fogground  snowfall dust  snowdepth mist drizzle hail  fastest2minwindspeed  \\\n",
      "0        No       0.0   No        0.0  Yes      No   No                 17.90   \n",
      "1        No       0.0   No        0.0   No      No   No                 23.04   \n",
      "2        No       0.0   No        0.0   No      No   No                 21.03   \n",
      "3        No       0.0   No        0.0   No      No   No                 23.94   \n",
      "4        No       0.0   No        0.0   No      No   No                 16.11   \n",
      "\n",
      "  thunder glaze  ... freezingrain rain highwind        date  precipitation  \\\n",
      "0      No    No  ...           No  Yes       No  2007-01-06           0.13   \n",
      "1      No    No  ...           No  Yes       No  2007-01-09           0.00   \n",
      "2      No    No  ...           No   No       No  2007-01-14           0.00   \n",
      "3      No    No  ...           No   No       No  2007-01-15           0.00   \n",
      "4      No    No  ...           No   No       No  2007-01-20           0.00   \n",
      "\n",
      "  fogheavy  smokehaze avgwindspeed fastest2minwinddir fastest5secwinddir  \n",
      "0       No         No         8.05              230.0              230.0  \n",
      "1       No         No         7.61              280.0              270.0  \n",
      "2       No         No         8.50              230.0              230.0  \n",
      "3       No         No        13.20              230.0              230.0  \n",
      "4       No         No         4.92              290.0              320.0  \n",
      "\n",
      "[5 rows x 28 columns]\n"
     ]
    }
   ],
   "source": [
    "data=pd.read_csv(\"C:/Users/hp/Desktop/new/abcd.csv\")\n",
    "print(data.head(5))"
   ]
  },
  {
   "cell_type": "code",
   "execution_count": 3,
   "metadata": {},
   "outputs": [
    {
     "data": {
      "text/plain": [
       "(4847, 28)"
      ]
     },
     "execution_count": 3,
     "metadata": {},
     "output_type": "execute_result"
    }
   ],
   "source": [
    "#Removing duplicates\n",
    "data.shape"
   ]
  },
  {
   "cell_type": "code",
   "execution_count": 4,
   "metadata": {},
   "outputs": [],
   "source": [
    "data.drop_duplicates(inplace=True)\n"
   ]
  },
  {
   "cell_type": "code",
   "execution_count": 5,
   "metadata": {},
   "outputs": [
    {
     "data": {
      "text/plain": [
       "(4847, 28)"
      ]
     },
     "execution_count": 5,
     "metadata": {},
     "output_type": "execute_result"
    }
   ],
   "source": [
    "data.shape"
   ]
  },
  {
   "cell_type": "code",
   "execution_count": 6,
   "metadata": {},
   "outputs": [
    {
     "data": {
      "text/plain": [
       "fogground                0\n",
       "snowfall                 1\n",
       "dust                     0\n",
       "snowdepth                1\n",
       "mist                     0\n",
       "drizzle                  0\n",
       "hail                     0\n",
       "fastest2minwindspeed     2\n",
       "thunder                  0\n",
       "glaze                    0\n",
       "snow                     0\n",
       "ice                      0\n",
       "fog                      0\n",
       "temperaturemin           1\n",
       "fastest5secwindspeed    19\n",
       "freezingfog              0\n",
       "temperaturemax           1\n",
       "blowingsnow              0\n",
       "freezingrain             0\n",
       "rain                     0\n",
       "highwind                 0\n",
       "date                     0\n",
       "precipitation            1\n",
       "fogheavy                 0\n",
       "smokehaze                0\n",
       "avgwindspeed             3\n",
       "fastest2minwinddir       2\n",
       "fastest5secwinddir      19\n",
       "dtype: int64"
      ]
     },
     "execution_count": 6,
     "metadata": {},
     "output_type": "execute_result"
    }
   ],
   "source": [
    "#To check null values\n",
    "data.isnull().sum()"
   ]
  },
  {
   "cell_type": "code",
   "execution_count": 7,
   "metadata": {},
   "outputs": [
    {
     "data": {
      "text/plain": [
       "fogground                object\n",
       "snowfall                float64\n",
       "dust                     object\n",
       "snowdepth               float64\n",
       "mist                     object\n",
       "drizzle                  object\n",
       "hail                     object\n",
       "fastest2minwindspeed    float64\n",
       "thunder                  object\n",
       "glaze                    object\n",
       "snow                     object\n",
       "ice                      object\n",
       "fog                      object\n",
       "temperaturemin          float64\n",
       "fastest5secwindspeed    float64\n",
       "freezingfog              object\n",
       "temperaturemax          float64\n",
       "blowingsnow              object\n",
       "freezingrain             object\n",
       "rain                     object\n",
       "highwind                 object\n",
       "date                     object\n",
       "precipitation           float64\n",
       "fogheavy                 object\n",
       "smokehaze                object\n",
       "avgwindspeed            float64\n",
       "fastest2minwinddir      float64\n",
       "fastest5secwinddir      float64\n",
       "dtype: object"
      ]
     },
     "execution_count": 7,
     "metadata": {},
     "output_type": "execute_result"
    }
   ],
   "source": [
    "data.dtypes"
   ]
  },
  {
   "cell_type": "code",
   "execution_count": 8,
   "metadata": {},
   "outputs": [
    {
     "data": {
      "text/plain": [
       "{'No': 0, 'Yes': 1}"
      ]
     },
     "execution_count": 8,
     "metadata": {},
     "output_type": "execute_result"
    }
   ],
   "source": [
    "\n",
    "import numpy as np\n",
    "np.unique(data['rain'])\n",
    "mapping={label:idx for idx, label in enumerate(np.unique(data['rain']))}\n",
    "mapping\n"
   ]
  },
  {
   "cell_type": "code",
   "execution_count": 9,
   "metadata": {},
   "outputs": [
    {
     "data": {
      "text/html": [
       "<div>\n",
       "<style scoped>\n",
       "    .dataframe tbody tr th:only-of-type {\n",
       "        vertical-align: middle;\n",
       "    }\n",
       "\n",
       "    .dataframe tbody tr th {\n",
       "        vertical-align: top;\n",
       "    }\n",
       "\n",
       "    .dataframe thead th {\n",
       "        text-align: right;\n",
       "    }\n",
       "</style>\n",
       "<table border=\"1\" class=\"dataframe\">\n",
       "  <thead>\n",
       "    <tr style=\"text-align: right;\">\n",
       "      <th></th>\n",
       "      <th>fogground</th>\n",
       "      <th>snowfall</th>\n",
       "      <th>dust</th>\n",
       "      <th>snowdepth</th>\n",
       "      <th>mist</th>\n",
       "      <th>drizzle</th>\n",
       "      <th>hail</th>\n",
       "      <th>fastest2minwindspeed</th>\n",
       "      <th>thunder</th>\n",
       "      <th>glaze</th>\n",
       "      <th>...</th>\n",
       "      <th>freezingrain</th>\n",
       "      <th>rain</th>\n",
       "      <th>highwind</th>\n",
       "      <th>date</th>\n",
       "      <th>precipitation</th>\n",
       "      <th>fogheavy</th>\n",
       "      <th>smokehaze</th>\n",
       "      <th>avgwindspeed</th>\n",
       "      <th>fastest2minwinddir</th>\n",
       "      <th>fastest5secwinddir</th>\n",
       "    </tr>\n",
       "  </thead>\n",
       "  <tbody>\n",
       "    <tr>\n",
       "      <td>0</td>\n",
       "      <td>No</td>\n",
       "      <td>0.0</td>\n",
       "      <td>No</td>\n",
       "      <td>0.0</td>\n",
       "      <td>Yes</td>\n",
       "      <td>No</td>\n",
       "      <td>No</td>\n",
       "      <td>17.90</td>\n",
       "      <td>No</td>\n",
       "      <td>No</td>\n",
       "      <td>...</td>\n",
       "      <td>No</td>\n",
       "      <td>1</td>\n",
       "      <td>No</td>\n",
       "      <td>2007-01-06</td>\n",
       "      <td>0.13</td>\n",
       "      <td>No</td>\n",
       "      <td>No</td>\n",
       "      <td>8.05</td>\n",
       "      <td>230.0</td>\n",
       "      <td>230.0</td>\n",
       "    </tr>\n",
       "    <tr>\n",
       "      <td>1</td>\n",
       "      <td>No</td>\n",
       "      <td>0.0</td>\n",
       "      <td>No</td>\n",
       "      <td>0.0</td>\n",
       "      <td>No</td>\n",
       "      <td>No</td>\n",
       "      <td>No</td>\n",
       "      <td>23.04</td>\n",
       "      <td>No</td>\n",
       "      <td>No</td>\n",
       "      <td>...</td>\n",
       "      <td>No</td>\n",
       "      <td>1</td>\n",
       "      <td>No</td>\n",
       "      <td>2007-01-09</td>\n",
       "      <td>0.00</td>\n",
       "      <td>No</td>\n",
       "      <td>No</td>\n",
       "      <td>7.61</td>\n",
       "      <td>280.0</td>\n",
       "      <td>270.0</td>\n",
       "    </tr>\n",
       "    <tr>\n",
       "      <td>2</td>\n",
       "      <td>No</td>\n",
       "      <td>0.0</td>\n",
       "      <td>No</td>\n",
       "      <td>0.0</td>\n",
       "      <td>No</td>\n",
       "      <td>No</td>\n",
       "      <td>No</td>\n",
       "      <td>21.03</td>\n",
       "      <td>No</td>\n",
       "      <td>No</td>\n",
       "      <td>...</td>\n",
       "      <td>No</td>\n",
       "      <td>0</td>\n",
       "      <td>No</td>\n",
       "      <td>2007-01-14</td>\n",
       "      <td>0.00</td>\n",
       "      <td>No</td>\n",
       "      <td>No</td>\n",
       "      <td>8.50</td>\n",
       "      <td>230.0</td>\n",
       "      <td>230.0</td>\n",
       "    </tr>\n",
       "    <tr>\n",
       "      <td>3</td>\n",
       "      <td>No</td>\n",
       "      <td>0.0</td>\n",
       "      <td>No</td>\n",
       "      <td>0.0</td>\n",
       "      <td>No</td>\n",
       "      <td>No</td>\n",
       "      <td>No</td>\n",
       "      <td>23.94</td>\n",
       "      <td>No</td>\n",
       "      <td>No</td>\n",
       "      <td>...</td>\n",
       "      <td>No</td>\n",
       "      <td>0</td>\n",
       "      <td>No</td>\n",
       "      <td>2007-01-15</td>\n",
       "      <td>0.00</td>\n",
       "      <td>No</td>\n",
       "      <td>No</td>\n",
       "      <td>13.20</td>\n",
       "      <td>230.0</td>\n",
       "      <td>230.0</td>\n",
       "    </tr>\n",
       "    <tr>\n",
       "      <td>4</td>\n",
       "      <td>No</td>\n",
       "      <td>0.0</td>\n",
       "      <td>No</td>\n",
       "      <td>0.0</td>\n",
       "      <td>No</td>\n",
       "      <td>No</td>\n",
       "      <td>No</td>\n",
       "      <td>16.11</td>\n",
       "      <td>No</td>\n",
       "      <td>No</td>\n",
       "      <td>...</td>\n",
       "      <td>No</td>\n",
       "      <td>0</td>\n",
       "      <td>No</td>\n",
       "      <td>2007-01-20</td>\n",
       "      <td>0.00</td>\n",
       "      <td>No</td>\n",
       "      <td>No</td>\n",
       "      <td>4.92</td>\n",
       "      <td>290.0</td>\n",
       "      <td>320.0</td>\n",
       "    </tr>\n",
       "    <tr>\n",
       "      <td>...</td>\n",
       "      <td>...</td>\n",
       "      <td>...</td>\n",
       "      <td>...</td>\n",
       "      <td>...</td>\n",
       "      <td>...</td>\n",
       "      <td>...</td>\n",
       "      <td>...</td>\n",
       "      <td>...</td>\n",
       "      <td>...</td>\n",
       "      <td>...</td>\n",
       "      <td>...</td>\n",
       "      <td>...</td>\n",
       "      <td>...</td>\n",
       "      <td>...</td>\n",
       "      <td>...</td>\n",
       "      <td>...</td>\n",
       "      <td>...</td>\n",
       "      <td>...</td>\n",
       "      <td>...</td>\n",
       "      <td>...</td>\n",
       "      <td>...</td>\n",
       "    </tr>\n",
       "    <tr>\n",
       "      <td>4842</td>\n",
       "      <td>No</td>\n",
       "      <td>0.0</td>\n",
       "      <td>No</td>\n",
       "      <td>0.0</td>\n",
       "      <td>No</td>\n",
       "      <td>No</td>\n",
       "      <td>No</td>\n",
       "      <td>23.94</td>\n",
       "      <td>No</td>\n",
       "      <td>No</td>\n",
       "      <td>...</td>\n",
       "      <td>No</td>\n",
       "      <td>0</td>\n",
       "      <td>No</td>\n",
       "      <td>2020-03-09</td>\n",
       "      <td>0.00</td>\n",
       "      <td>No</td>\n",
       "      <td>No</td>\n",
       "      <td>11.41</td>\n",
       "      <td>230.0</td>\n",
       "      <td>230.0</td>\n",
       "    </tr>\n",
       "    <tr>\n",
       "      <td>4843</td>\n",
       "      <td>No</td>\n",
       "      <td>0.0</td>\n",
       "      <td>No</td>\n",
       "      <td>0.0</td>\n",
       "      <td>No</td>\n",
       "      <td>No</td>\n",
       "      <td>No</td>\n",
       "      <td>17.00</td>\n",
       "      <td>Yes</td>\n",
       "      <td>No</td>\n",
       "      <td>...</td>\n",
       "      <td>No</td>\n",
       "      <td>0</td>\n",
       "      <td>No</td>\n",
       "      <td>2020-03-25</td>\n",
       "      <td>0.86</td>\n",
       "      <td>No</td>\n",
       "      <td>No</td>\n",
       "      <td>7.16</td>\n",
       "      <td>280.0</td>\n",
       "      <td>280.0</td>\n",
       "    </tr>\n",
       "    <tr>\n",
       "      <td>4844</td>\n",
       "      <td>No</td>\n",
       "      <td>0.0</td>\n",
       "      <td>No</td>\n",
       "      <td>0.0</td>\n",
       "      <td>No</td>\n",
       "      <td>No</td>\n",
       "      <td>No</td>\n",
       "      <td>14.99</td>\n",
       "      <td>No</td>\n",
       "      <td>No</td>\n",
       "      <td>...</td>\n",
       "      <td>No</td>\n",
       "      <td>0</td>\n",
       "      <td>No</td>\n",
       "      <td>2020-03-26</td>\n",
       "      <td>0.00</td>\n",
       "      <td>No</td>\n",
       "      <td>No</td>\n",
       "      <td>5.14</td>\n",
       "      <td>230.0</td>\n",
       "      <td>230.0</td>\n",
       "    </tr>\n",
       "    <tr>\n",
       "      <td>4845</td>\n",
       "      <td>No</td>\n",
       "      <td>0.0</td>\n",
       "      <td>No</td>\n",
       "      <td>0.0</td>\n",
       "      <td>No</td>\n",
       "      <td>No</td>\n",
       "      <td>No</td>\n",
       "      <td>17.00</td>\n",
       "      <td>No</td>\n",
       "      <td>No</td>\n",
       "      <td>...</td>\n",
       "      <td>No</td>\n",
       "      <td>0</td>\n",
       "      <td>No</td>\n",
       "      <td>2020-03-27</td>\n",
       "      <td>0.00</td>\n",
       "      <td>No</td>\n",
       "      <td>No</td>\n",
       "      <td>8.50</td>\n",
       "      <td>240.0</td>\n",
       "      <td>230.0</td>\n",
       "    </tr>\n",
       "    <tr>\n",
       "      <td>4846</td>\n",
       "      <td>No</td>\n",
       "      <td>0.0</td>\n",
       "      <td>No</td>\n",
       "      <td>0.0</td>\n",
       "      <td>No</td>\n",
       "      <td>No</td>\n",
       "      <td>No</td>\n",
       "      <td>18.12</td>\n",
       "      <td>No</td>\n",
       "      <td>No</td>\n",
       "      <td>...</td>\n",
       "      <td>No</td>\n",
       "      <td>0</td>\n",
       "      <td>No</td>\n",
       "      <td>2020-03-30</td>\n",
       "      <td>0.00</td>\n",
       "      <td>No</td>\n",
       "      <td>No</td>\n",
       "      <td>7.16</td>\n",
       "      <td>280.0</td>\n",
       "      <td>280.0</td>\n",
       "    </tr>\n",
       "  </tbody>\n",
       "</table>\n",
       "<p>4847 rows × 28 columns</p>\n",
       "</div>"
      ],
      "text/plain": [
       "     fogground  snowfall dust  snowdepth mist drizzle hail  \\\n",
       "0           No       0.0   No        0.0  Yes      No   No   \n",
       "1           No       0.0   No        0.0   No      No   No   \n",
       "2           No       0.0   No        0.0   No      No   No   \n",
       "3           No       0.0   No        0.0   No      No   No   \n",
       "4           No       0.0   No        0.0   No      No   No   \n",
       "...        ...       ...  ...        ...  ...     ...  ...   \n",
       "4842        No       0.0   No        0.0   No      No   No   \n",
       "4843        No       0.0   No        0.0   No      No   No   \n",
       "4844        No       0.0   No        0.0   No      No   No   \n",
       "4845        No       0.0   No        0.0   No      No   No   \n",
       "4846        No       0.0   No        0.0   No      No   No   \n",
       "\n",
       "      fastest2minwindspeed thunder glaze  ... freezingrain rain highwind  \\\n",
       "0                    17.90      No    No  ...           No    1       No   \n",
       "1                    23.04      No    No  ...           No    1       No   \n",
       "2                    21.03      No    No  ...           No    0       No   \n",
       "3                    23.94      No    No  ...           No    0       No   \n",
       "4                    16.11      No    No  ...           No    0       No   \n",
       "...                    ...     ...   ...  ...          ...  ...      ...   \n",
       "4842                 23.94      No    No  ...           No    0       No   \n",
       "4843                 17.00     Yes    No  ...           No    0       No   \n",
       "4844                 14.99      No    No  ...           No    0       No   \n",
       "4845                 17.00      No    No  ...           No    0       No   \n",
       "4846                 18.12      No    No  ...           No    0       No   \n",
       "\n",
       "            date  precipitation fogheavy  smokehaze avgwindspeed  \\\n",
       "0     2007-01-06           0.13       No         No         8.05   \n",
       "1     2007-01-09           0.00       No         No         7.61   \n",
       "2     2007-01-14           0.00       No         No         8.50   \n",
       "3     2007-01-15           0.00       No         No        13.20   \n",
       "4     2007-01-20           0.00       No         No         4.92   \n",
       "...          ...            ...      ...        ...          ...   \n",
       "4842  2020-03-09           0.00       No         No        11.41   \n",
       "4843  2020-03-25           0.86       No         No         7.16   \n",
       "4844  2020-03-26           0.00       No         No         5.14   \n",
       "4845  2020-03-27           0.00       No         No         8.50   \n",
       "4846  2020-03-30           0.00       No         No         7.16   \n",
       "\n",
       "     fastest2minwinddir  fastest5secwinddir  \n",
       "0                 230.0               230.0  \n",
       "1                 280.0               270.0  \n",
       "2                 230.0               230.0  \n",
       "3                 230.0               230.0  \n",
       "4                 290.0               320.0  \n",
       "...                 ...                 ...  \n",
       "4842              230.0               230.0  \n",
       "4843              280.0               280.0  \n",
       "4844              230.0               230.0  \n",
       "4845              240.0               230.0  \n",
       "4846              280.0               280.0  \n",
       "\n",
       "[4847 rows x 28 columns]"
      ]
     },
     "execution_count": 9,
     "metadata": {},
     "output_type": "execute_result"
    }
   ],
   "source": [
    "\n",
    "data['rain']=data['rain'].map(mapping)\n",
    "data\n"
   ]
  },
  {
   "cell_type": "code",
   "execution_count": null,
   "metadata": {},
   "outputs": [],
   "source": []
  },
  {
   "cell_type": "code",
   "execution_count": 10,
   "metadata": {},
   "outputs": [],
   "source": [
    "todummy_list=['fogground','dust','mist','drizzle','hail','thunder','glaze','snow','ice','fog','freezingfog','blowingsnow','freezingrain','highwind','fogheavy','smokehaze']"
   ]
  },
  {
   "cell_type": "code",
   "execution_count": 11,
   "metadata": {},
   "outputs": [],
   "source": [
    "\n",
    "def dummy_df(data, todummy_list):\n",
    "    for x in todummy_list:\n",
    "        dummies=pd.get_dummies(data[x], prefix=x, dummy_na=False)\n",
    "        data=data.drop(x,1)\n",
    "        data=pd.concat([data,dummies],axis=1)\n",
    "    return data\n"
   ]
  },
  {
   "cell_type": "code",
   "execution_count": 12,
   "metadata": {},
   "outputs": [
    {
     "name": "stdout",
     "output_type": "stream",
     "text": [
      "   snowfall  snowdepth  fastest2minwindspeed  temperaturemin  \\\n",
      "0       0.0        0.0                 17.90            50.0   \n",
      "1       0.0        0.0                 23.04            30.0   \n",
      "2       0.0        0.0                 21.03            50.0   \n",
      "3       0.0        0.0                 23.94            57.0   \n",
      "4       0.0        0.0                 16.11            26.1   \n",
      "\n",
      "   fastest5secwindspeed  temperaturemax  rain        date  precipitation  \\\n",
      "0                 21.92            71.1     1  2007-01-06           0.13   \n",
      "1                 29.08            55.0     1  2007-01-09           0.00   \n",
      "2                 25.05            73.9     0  2007-01-14           0.00   \n",
      "3                 29.08            73.9     0  2007-01-15           0.00   \n",
      "4                 21.03            48.0     0  2007-01-20           0.00   \n",
      "\n",
      "   avgwindspeed  ...  blowingsnow_No  blowingsnow_Yes  freezingrain_No  \\\n",
      "0          8.05  ...               1                0                1   \n",
      "1          7.61  ...               1                0                1   \n",
      "2          8.50  ...               1                0                1   \n",
      "3         13.20  ...               1                0                1   \n",
      "4          4.92  ...               1                0                1   \n",
      "\n",
      "   freezingrain_Yes  highwind_No  highwind_Yes  fogheavy_No  fogheavy_Yes  \\\n",
      "0                 0            1             0            1             0   \n",
      "1                 0            1             0            1             0   \n",
      "2                 0            1             0            1             0   \n",
      "3                 0            1             0            1             0   \n",
      "4                 0            1             0            1             0   \n",
      "\n",
      "   smokehaze_No  smokehaze_Yes  \n",
      "0             1              0  \n",
      "1             1              0  \n",
      "2             1              0  \n",
      "3             1              0  \n",
      "4             1              0  \n",
      "\n",
      "[5 rows x 44 columns]\n"
     ]
    }
   ],
   "source": [
    "\n",
    "df=dummy_df(data,todummy_list)\n",
    "print(df.head(5))\n"
   ]
  },
  {
   "cell_type": "code",
   "execution_count": null,
   "metadata": {},
   "outputs": [],
   "source": []
  },
  {
   "cell_type": "code",
   "execution_count": 13,
   "metadata": {},
   "outputs": [],
   "source": [
    "df=df.drop('date',1)\n"
   ]
  },
  {
   "cell_type": "code",
   "execution_count": null,
   "metadata": {},
   "outputs": [],
   "source": []
  },
  {
   "cell_type": "code",
   "execution_count": 14,
   "metadata": {},
   "outputs": [],
   "source": [
    "x=df.drop('rain',1)\n",
    "y=df.rain"
   ]
  },
  {
   "cell_type": "code",
   "execution_count": null,
   "metadata": {},
   "outputs": [],
   "source": []
  },
  {
   "cell_type": "code",
   "execution_count": null,
   "metadata": {},
   "outputs": [],
   "source": []
  },
  {
   "cell_type": "code",
   "execution_count": 15,
   "metadata": {},
   "outputs": [
    {
     "data": {
      "text/plain": [
       "(4847, 43)"
      ]
     },
     "execution_count": 15,
     "metadata": {},
     "output_type": "execute_result"
    }
   ],
   "source": [
    "df.shape"
   ]
  },
  {
   "cell_type": "code",
   "execution_count": 16,
   "metadata": {},
   "outputs": [
    {
     "name": "stderr",
     "output_type": "stream",
     "text": [
      "C:\\Users\\hp\\Anaconda3\\lib\\site-packages\\sklearn\\utils\\deprecation.py:66: DeprecationWarning: Class Imputer is deprecated; Imputer was deprecated in version 0.20 and will be removed in 0.22. Import impute.SimpleImputer from sklearn instead.\n",
      "  warnings.warn(msg, category=DeprecationWarning)\n"
     ]
    }
   ],
   "source": [
    "#imputer\n",
    "from sklearn.preprocessing import Imputer\n",
    "imp=Imputer(missing_values='NaN',strategy='median',axis=0)\n",
    "imp.fit(x)\n",
    "x=pd.DataFrame(data=imp.transform(x),columns=x.columns)"
   ]
  },
  {
   "cell_type": "code",
   "execution_count": 17,
   "metadata": {},
   "outputs": [
    {
     "data": {
      "text/plain": [
       "snowfall                0\n",
       "snowdepth               0\n",
       "fastest2minwindspeed    0\n",
       "temperaturemin          0\n",
       "fastest5secwindspeed    0\n",
       "temperaturemax          0\n",
       "precipitation           0\n",
       "avgwindspeed            0\n",
       "fastest2minwinddir      0\n",
       "fastest5secwinddir      0\n",
       "fogground_No            0\n",
       "fogground_Yes           0\n",
       "dust_No                 0\n",
       "dust_Yes                0\n",
       "mist_No                 0\n",
       "mist_Yes                0\n",
       "drizzle_No              0\n",
       "drizzle_Yes             0\n",
       "hail_No                 0\n",
       "hail_Yes                0\n",
       "thunder_No              0\n",
       "thunder_Yes             0\n",
       "glaze_No                0\n",
       "glaze_Yes               0\n",
       "snow_No                 0\n",
       "snow_Yes                0\n",
       "ice_No                  0\n",
       "ice_Yes                 0\n",
       "fog_No                  0\n",
       "fog_Yes                 0\n",
       "freezingfog_No          0\n",
       "freezingfog_Yes         0\n",
       "blowingsnow_No          0\n",
       "blowingsnow_Yes         0\n",
       "freezingrain_No         0\n",
       "freezingrain_Yes        0\n",
       "highwind_No             0\n",
       "highwind_Yes            0\n",
       "fogheavy_No             0\n",
       "fogheavy_Yes            0\n",
       "smokehaze_No            0\n",
       "smokehaze_Yes           0\n",
       "dtype: int64"
      ]
     },
     "execution_count": 17,
     "metadata": {},
     "output_type": "execute_result"
    }
   ],
   "source": [
    "x.isnull().sum()"
   ]
  },
  {
   "cell_type": "code",
   "execution_count": null,
   "metadata": {},
   "outputs": [],
   "source": []
  },
  {
   "cell_type": "code",
   "execution_count": null,
   "metadata": {},
   "outputs": [],
   "source": []
  },
  {
   "cell_type": "code",
   "execution_count": 18,
   "metadata": {},
   "outputs": [],
   "source": [
    "from sklearn.model_selection import train_test_split\n",
    "x_train, x_test, y_train, y_test = train_test_split(x, y, test_size=0.3, random_state=1)"
   ]
  },
  {
   "cell_type": "code",
   "execution_count": 19,
   "metadata": {},
   "outputs": [],
   "source": [
    "#feature scaling(-1 and 1) will make alogorithm fast to run\n",
    "from sklearn.preprocessing import StandardScaler\n",
    "sc_x=StandardScaler()\n",
    "x_train=sc_x.fit_transform(x_train)\n",
    "x_test=sc_x.transform(x_test)\n"
   ]
  },
  {
   "cell_type": "code",
   "execution_count": null,
   "metadata": {},
   "outputs": [],
   "source": []
  },
  {
   "cell_type": "code",
   "execution_count": 20,
   "metadata": {},
   "outputs": [
    {
     "data": {
      "text/plain": [
       "'\\n# Create Decision Tree classifer object\\nclf = DecisionTreeClassifier(criterion=\"entropy\", max_depth=3)\\n\\n# Train Decision Tree Classifer\\nclf = clf.fit(x_train,y_train)\\n\\n#Predict the response for test dataset\\ny_pred_entropy = clf.predict(x_test)\\n\\n# Model Accuracy, how often is the classifier correct?\\nprint(\"Results Using Entropy:\")\\nprint(\"Accuracy:\",metrics.accuracy_score(y_test, y_pred_entropy))\\nprint(\"Confusion matrix:\")\\nprint(confusion_matrix(y_test, y_pred_entropy))\\n\\nprint(\"Classification report:\")\\nprint(classification_report(y_test, y_pred_entropy))\\n'"
      ]
     },
     "execution_count": 20,
     "metadata": {},
     "output_type": "execute_result"
    }
   ],
   "source": [
    "'''\n",
    "# Create Decision Tree classifer object\n",
    "clf = DecisionTreeClassifier(criterion=\"entropy\", max_depth=3)\n",
    "\n",
    "# Train Decision Tree Classifer\n",
    "clf = clf.fit(x_train,y_train)\n",
    "\n",
    "#Predict the response for test dataset\n",
    "y_pred_entropy = clf.predict(x_test)\n",
    "\n",
    "# Model Accuracy, how often is the classifier correct?\n",
    "print(\"Results Using Entropy:\")\n",
    "print(\"Accuracy:\",metrics.accuracy_score(y_test, y_pred_entropy))\n",
    "print(\"Confusion matrix:\")\n",
    "print(confusion_matrix(y_test, y_pred_entropy))\n",
    "\n",
    "print(\"Classification report:\")\n",
    "print(classification_report(y_test, y_pred_entropy))\n",
    "'''"
   ]
  },
  {
   "cell_type": "code",
   "execution_count": 25,
   "metadata": {},
   "outputs": [
    {
     "name": "stdout",
     "output_type": "stream",
     "text": [
      "Accuracy: 92.23367697594502 %\n",
      "Confusion matrix:\n",
      "[[1165   32]\n",
      " [  81  177]]\n",
      "Classification report:\n",
      "              precision    recall  f1-score   support\n",
      "\n",
      "           0       0.93      0.97      0.95      1197\n",
      "           1       0.85      0.69      0.76       258\n",
      "\n",
      "    accuracy                           0.92      1455\n",
      "   macro avg       0.89      0.83      0.86      1455\n",
      "weighted avg       0.92      0.92      0.92      1455\n",
      "\n"
     ]
    },
    {
     "name": "stderr",
     "output_type": "stream",
     "text": [
      "C:\\Users\\hp\\Anaconda3\\lib\\site-packages\\sklearn\\linear_model\\logistic.py:432: FutureWarning: Default solver will be changed to 'lbfgs' in 0.22. Specify a solver to silence this warning.\n",
      "  FutureWarning)\n"
     ]
    }
   ],
   "source": [
    "from sklearn.linear_model import LogisticRegression\n",
    "import sklearn.metrics as metrics\n",
    "classifier=LogisticRegression(random_state=0)\n",
    "classifier.fit(x_train,y_train)\n",
    "y_pred=classifier.predict(x_test)\n",
    "print(\"Accuracy:\", metrics.accuracy_score(y_test, y_pred)*100,\"%\")\n",
    "print(\"Confusion matrix:\")\n",
    "print(confusion_matrix(y_test, y_pred))\n",
    "print(\"Classification report:\")\n",
    "print(classification_report(y_test, y_pred))\n"
   ]
  },
  {
   "cell_type": "code",
   "execution_count": 23,
   "metadata": {},
   "outputs": [
    {
     "name": "stderr",
     "output_type": "stream",
     "text": [
      "C:\\Users\\hp\\Anaconda3\\lib\\site-packages\\sklearn\\linear_model\\logistic.py:432: FutureWarning: Default solver will be changed to 'lbfgs' in 0.22. Specify a solver to silence this warning.\n",
      "  FutureWarning)\n",
      "C:\\Users\\hp\\Anaconda3\\lib\\site-packages\\sklearn\\linear_model\\logistic.py:432: FutureWarning: Default solver will be changed to 'lbfgs' in 0.22. Specify a solver to silence this warning.\n",
      "  FutureWarning)\n",
      "C:\\Users\\hp\\Anaconda3\\lib\\site-packages\\sklearn\\linear_model\\logistic.py:432: FutureWarning: Default solver will be changed to 'lbfgs' in 0.22. Specify a solver to silence this warning.\n",
      "  FutureWarning)\n",
      "C:\\Users\\hp\\Anaconda3\\lib\\site-packages\\sklearn\\linear_model\\logistic.py:432: FutureWarning: Default solver will be changed to 'lbfgs' in 0.22. Specify a solver to silence this warning.\n",
      "  FutureWarning)\n",
      "C:\\Users\\hp\\Anaconda3\\lib\\site-packages\\sklearn\\linear_model\\logistic.py:432: FutureWarning: Default solver will be changed to 'lbfgs' in 0.22. Specify a solver to silence this warning.\n",
      "  FutureWarning)\n",
      "C:\\Users\\hp\\Anaconda3\\lib\\site-packages\\sklearn\\linear_model\\logistic.py:432: FutureWarning: Default solver will be changed to 'lbfgs' in 0.22. Specify a solver to silence this warning.\n",
      "  FutureWarning)\n",
      "C:\\Users\\hp\\Anaconda3\\lib\\site-packages\\sklearn\\linear_model\\logistic.py:432: FutureWarning: Default solver will be changed to 'lbfgs' in 0.22. Specify a solver to silence this warning.\n",
      "  FutureWarning)\n",
      "C:\\Users\\hp\\Anaconda3\\lib\\site-packages\\sklearn\\linear_model\\logistic.py:432: FutureWarning: Default solver will be changed to 'lbfgs' in 0.22. Specify a solver to silence this warning.\n",
      "  FutureWarning)\n",
      "C:\\Users\\hp\\Anaconda3\\lib\\site-packages\\sklearn\\linear_model\\logistic.py:432: FutureWarning: Default solver will be changed to 'lbfgs' in 0.22. Specify a solver to silence this warning.\n",
      "  FutureWarning)\n"
     ]
    },
    {
     "name": "stdout",
     "output_type": "stream",
     "text": [
      "Evatulation accuracy with K-fold cross validation: 92.30492110967023 %\n"
     ]
    },
    {
     "name": "stderr",
     "output_type": "stream",
     "text": [
      "C:\\Users\\hp\\Anaconda3\\lib\\site-packages\\sklearn\\linear_model\\logistic.py:432: FutureWarning: Default solver will be changed to 'lbfgs' in 0.22. Specify a solver to silence this warning.\n",
      "  FutureWarning)\n"
     ]
    }
   ],
   "source": [
    "#evaluation\n",
    "#applying k-fold cross validation to check model performance\n",
    "#we will get 10 accoracies based 10 test set\n",
    "from sklearn.model_selection import cross_val_score\n",
    "accuracies= cross_val_score(estimator=classifier, X = x_train, y = y_train, cv=10)\n",
    "print(\"Evatulation accuracy with K-fold cross validation:\",accuracies.mean()*100,\"%\")"
   ]
  },
  {
   "cell_type": "code",
   "execution_count": null,
   "metadata": {},
   "outputs": [],
   "source": []
  },
  {
   "cell_type": "code",
   "execution_count": null,
   "metadata": {},
   "outputs": [],
   "source": []
  },
  {
   "cell_type": "code",
   "execution_count": null,
   "metadata": {},
   "outputs": [],
   "source": []
  }
 ],
 "metadata": {
  "kernelspec": {
   "display_name": "Python 3",
   "language": "python",
   "name": "python3"
  },
  "language_info": {
   "codemirror_mode": {
    "name": "ipython",
    "version": 3
   },
   "file_extension": ".py",
   "mimetype": "text/x-python",
   "name": "python",
   "nbconvert_exporter": "python",
   "pygments_lexer": "ipython3",
   "version": "3.7.4"
  }
 },
 "nbformat": 4,
 "nbformat_minor": 2
}
