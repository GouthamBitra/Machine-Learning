{
 "cells": [
  {
   "cell_type": "code",
   "execution_count": 1,
   "metadata": {},
   "outputs": [],
   "source": [
    "import numpy as np\n",
    "import pandas as pd\n",
    "import matplotlib.pyplot as plt\n",
    "import seaborn as sns\n",
    "from sklearn.metrics import confusion_matrix\n",
    "from sklearn.metrics import accuracy_score \n",
    "from sklearn.metrics import classification_report \n",
    "import numpy as np\n",
    "from sklearn.ensemble import RandomForestClassifier\n",
    "from sklearn.metrics import accuracy_score\n",
    "import sklearn.metrics as metrics\n",
    "from sklearn.datasets import make_classification\n",
    "from imblearn.under_sampling import RandomUnderSampler\n",
    "from sklearn.impute import SimpleImputer\n",
    "from sklearn.model_selection import cross_val_score\n",
    "from sklearn.preprocessing import StandardScaler\n",
    "from sklearn.metrics import roc_curve, roc_auc_score\n",
    "%matplotlib inline"
   ]
  },
  {
   "cell_type": "markdown",
   "metadata": {},
   "source": [
    "# Importing Data"
   ]
  },
  {
   "cell_type": "code",
   "execution_count": 2,
   "metadata": {},
   "outputs": [
    {
     "name": "stdout",
     "output_type": "stream",
     "text": [
      "  fogground  snowfall dust  snowdepth mist drizzle hail  fastest2minwindspeed  \\\n",
      "0        No       0.0   No        0.0  Yes      No   No                 17.90   \n",
      "1        No       0.0   No        0.0   No      No   No                 23.04   \n",
      "2        No       0.0   No        0.0   No      No   No                 21.03   \n",
      "3        No       0.0   No        0.0   No      No   No                 23.94   \n",
      "4        No       0.0   No        0.0   No      No   No                 16.11   \n",
      "\n",
      "  thunder glaze  ... freezingrain rain highwind        date  precipitation  \\\n",
      "0      No    No  ...           No  Yes       No  2007-01-06           0.13   \n",
      "1      No    No  ...           No  Yes       No  2007-01-09           0.00   \n",
      "2      No    No  ...           No   No       No  2007-01-14           0.00   \n",
      "3      No    No  ...           No   No       No  2007-01-15           0.00   \n",
      "4      No    No  ...           No   No       No  2007-01-20           0.00   \n",
      "\n",
      "  fogheavy  smokehaze avgwindspeed fastest2minwinddir fastest5secwinddir  \n",
      "0       No         No         8.05              230.0              230.0  \n",
      "1       No         No         7.61              280.0              270.0  \n",
      "2       No         No         8.50              230.0              230.0  \n",
      "3       No         No        13.20              230.0              230.0  \n",
      "4       No         No         4.92              290.0              320.0  \n",
      "\n",
      "[5 rows x 28 columns]\n"
     ]
    }
   ],
   "source": [
    "data=pd.read_csv(\"C:/Users/hp/Desktop/new/local-weather.csv\")\n",
    "print(data.head(5))"
   ]
  },
  {
   "cell_type": "markdown",
   "metadata": {},
   "source": [
    "# Handling Duplicate Values"
   ]
  },
  {
   "cell_type": "code",
   "execution_count": 3,
   "metadata": {},
   "outputs": [
    {
     "data": {
      "text/plain": [
       "0"
      ]
     },
     "execution_count": 3,
     "metadata": {},
     "output_type": "execute_result"
    }
   ],
   "source": [
    "#Checking Duplicate records\n",
    "dup=data.duplicated()\n",
    "sum(dup)"
   ]
  },
  {
   "cell_type": "markdown",
   "metadata": {},
   "source": [
    "# Feature Transformation- date column"
   ]
  },
  {
   "cell_type": "code",
   "execution_count": 4,
   "metadata": {},
   "outputs": [],
   "source": [
    "#converting date column to datatime\n",
    "data['date'] = pd.to_datetime(data['date'])"
   ]
  },
  {
   "cell_type": "code",
   "execution_count": 5,
   "metadata": {},
   "outputs": [],
   "source": [
    "#Splitting date into 3 seperate coloumns year, month and da\n",
    "data['date_year']= data['date'].dt.year\n",
    "data['date_month']= data['date'].dt.month\n",
    "data['date_day']= data['date'].dt.day"
   ]
  },
  {
   "cell_type": "code",
   "execution_count": 6,
   "metadata": {},
   "outputs": [
    {
     "data": {
      "text/html": [
       "<div>\n",
       "<style scoped>\n",
       "    .dataframe tbody tr th:only-of-type {\n",
       "        vertical-align: middle;\n",
       "    }\n",
       "\n",
       "    .dataframe tbody tr th {\n",
       "        vertical-align: top;\n",
       "    }\n",
       "\n",
       "    .dataframe thead th {\n",
       "        text-align: right;\n",
       "    }\n",
       "</style>\n",
       "<table border=\"1\" class=\"dataframe\">\n",
       "  <thead>\n",
       "    <tr style=\"text-align: right;\">\n",
       "      <th></th>\n",
       "      <th>fogground</th>\n",
       "      <th>snowfall</th>\n",
       "      <th>dust</th>\n",
       "      <th>snowdepth</th>\n",
       "      <th>mist</th>\n",
       "      <th>drizzle</th>\n",
       "      <th>hail</th>\n",
       "      <th>fastest2minwindspeed</th>\n",
       "      <th>thunder</th>\n",
       "      <th>glaze</th>\n",
       "      <th>...</th>\n",
       "      <th>highwind</th>\n",
       "      <th>precipitation</th>\n",
       "      <th>fogheavy</th>\n",
       "      <th>smokehaze</th>\n",
       "      <th>avgwindspeed</th>\n",
       "      <th>fastest2minwinddir</th>\n",
       "      <th>fastest5secwinddir</th>\n",
       "      <th>date_year</th>\n",
       "      <th>date_month</th>\n",
       "      <th>date_day</th>\n",
       "    </tr>\n",
       "  </thead>\n",
       "  <tbody>\n",
       "    <tr>\n",
       "      <td>0</td>\n",
       "      <td>No</td>\n",
       "      <td>0.0</td>\n",
       "      <td>No</td>\n",
       "      <td>0.0</td>\n",
       "      <td>Yes</td>\n",
       "      <td>No</td>\n",
       "      <td>No</td>\n",
       "      <td>17.90</td>\n",
       "      <td>No</td>\n",
       "      <td>No</td>\n",
       "      <td>...</td>\n",
       "      <td>No</td>\n",
       "      <td>0.13</td>\n",
       "      <td>No</td>\n",
       "      <td>No</td>\n",
       "      <td>8.05</td>\n",
       "      <td>230.0</td>\n",
       "      <td>230.0</td>\n",
       "      <td>2007</td>\n",
       "      <td>1</td>\n",
       "      <td>6</td>\n",
       "    </tr>\n",
       "    <tr>\n",
       "      <td>1</td>\n",
       "      <td>No</td>\n",
       "      <td>0.0</td>\n",
       "      <td>No</td>\n",
       "      <td>0.0</td>\n",
       "      <td>No</td>\n",
       "      <td>No</td>\n",
       "      <td>No</td>\n",
       "      <td>23.04</td>\n",
       "      <td>No</td>\n",
       "      <td>No</td>\n",
       "      <td>...</td>\n",
       "      <td>No</td>\n",
       "      <td>0.00</td>\n",
       "      <td>No</td>\n",
       "      <td>No</td>\n",
       "      <td>7.61</td>\n",
       "      <td>280.0</td>\n",
       "      <td>270.0</td>\n",
       "      <td>2007</td>\n",
       "      <td>1</td>\n",
       "      <td>9</td>\n",
       "    </tr>\n",
       "    <tr>\n",
       "      <td>2</td>\n",
       "      <td>No</td>\n",
       "      <td>0.0</td>\n",
       "      <td>No</td>\n",
       "      <td>0.0</td>\n",
       "      <td>No</td>\n",
       "      <td>No</td>\n",
       "      <td>No</td>\n",
       "      <td>21.03</td>\n",
       "      <td>No</td>\n",
       "      <td>No</td>\n",
       "      <td>...</td>\n",
       "      <td>No</td>\n",
       "      <td>0.00</td>\n",
       "      <td>No</td>\n",
       "      <td>No</td>\n",
       "      <td>8.50</td>\n",
       "      <td>230.0</td>\n",
       "      <td>230.0</td>\n",
       "      <td>2007</td>\n",
       "      <td>1</td>\n",
       "      <td>14</td>\n",
       "    </tr>\n",
       "    <tr>\n",
       "      <td>3</td>\n",
       "      <td>No</td>\n",
       "      <td>0.0</td>\n",
       "      <td>No</td>\n",
       "      <td>0.0</td>\n",
       "      <td>No</td>\n",
       "      <td>No</td>\n",
       "      <td>No</td>\n",
       "      <td>23.94</td>\n",
       "      <td>No</td>\n",
       "      <td>No</td>\n",
       "      <td>...</td>\n",
       "      <td>No</td>\n",
       "      <td>0.00</td>\n",
       "      <td>No</td>\n",
       "      <td>No</td>\n",
       "      <td>13.20</td>\n",
       "      <td>230.0</td>\n",
       "      <td>230.0</td>\n",
       "      <td>2007</td>\n",
       "      <td>1</td>\n",
       "      <td>15</td>\n",
       "    </tr>\n",
       "    <tr>\n",
       "      <td>4</td>\n",
       "      <td>No</td>\n",
       "      <td>0.0</td>\n",
       "      <td>No</td>\n",
       "      <td>0.0</td>\n",
       "      <td>No</td>\n",
       "      <td>No</td>\n",
       "      <td>No</td>\n",
       "      <td>16.11</td>\n",
       "      <td>No</td>\n",
       "      <td>No</td>\n",
       "      <td>...</td>\n",
       "      <td>No</td>\n",
       "      <td>0.00</td>\n",
       "      <td>No</td>\n",
       "      <td>No</td>\n",
       "      <td>4.92</td>\n",
       "      <td>290.0</td>\n",
       "      <td>320.0</td>\n",
       "      <td>2007</td>\n",
       "      <td>1</td>\n",
       "      <td>20</td>\n",
       "    </tr>\n",
       "    <tr>\n",
       "      <td>...</td>\n",
       "      <td>...</td>\n",
       "      <td>...</td>\n",
       "      <td>...</td>\n",
       "      <td>...</td>\n",
       "      <td>...</td>\n",
       "      <td>...</td>\n",
       "      <td>...</td>\n",
       "      <td>...</td>\n",
       "      <td>...</td>\n",
       "      <td>...</td>\n",
       "      <td>...</td>\n",
       "      <td>...</td>\n",
       "      <td>...</td>\n",
       "      <td>...</td>\n",
       "      <td>...</td>\n",
       "      <td>...</td>\n",
       "      <td>...</td>\n",
       "      <td>...</td>\n",
       "      <td>...</td>\n",
       "      <td>...</td>\n",
       "      <td>...</td>\n",
       "    </tr>\n",
       "    <tr>\n",
       "      <td>4842</td>\n",
       "      <td>No</td>\n",
       "      <td>0.0</td>\n",
       "      <td>No</td>\n",
       "      <td>0.0</td>\n",
       "      <td>No</td>\n",
       "      <td>No</td>\n",
       "      <td>No</td>\n",
       "      <td>23.94</td>\n",
       "      <td>No</td>\n",
       "      <td>No</td>\n",
       "      <td>...</td>\n",
       "      <td>No</td>\n",
       "      <td>0.00</td>\n",
       "      <td>No</td>\n",
       "      <td>No</td>\n",
       "      <td>11.41</td>\n",
       "      <td>230.0</td>\n",
       "      <td>230.0</td>\n",
       "      <td>2020</td>\n",
       "      <td>3</td>\n",
       "      <td>9</td>\n",
       "    </tr>\n",
       "    <tr>\n",
       "      <td>4843</td>\n",
       "      <td>No</td>\n",
       "      <td>0.0</td>\n",
       "      <td>No</td>\n",
       "      <td>0.0</td>\n",
       "      <td>No</td>\n",
       "      <td>No</td>\n",
       "      <td>No</td>\n",
       "      <td>17.00</td>\n",
       "      <td>Yes</td>\n",
       "      <td>No</td>\n",
       "      <td>...</td>\n",
       "      <td>No</td>\n",
       "      <td>0.86</td>\n",
       "      <td>No</td>\n",
       "      <td>No</td>\n",
       "      <td>7.16</td>\n",
       "      <td>280.0</td>\n",
       "      <td>280.0</td>\n",
       "      <td>2020</td>\n",
       "      <td>3</td>\n",
       "      <td>25</td>\n",
       "    </tr>\n",
       "    <tr>\n",
       "      <td>4844</td>\n",
       "      <td>No</td>\n",
       "      <td>0.0</td>\n",
       "      <td>No</td>\n",
       "      <td>0.0</td>\n",
       "      <td>No</td>\n",
       "      <td>No</td>\n",
       "      <td>No</td>\n",
       "      <td>14.99</td>\n",
       "      <td>No</td>\n",
       "      <td>No</td>\n",
       "      <td>...</td>\n",
       "      <td>No</td>\n",
       "      <td>0.00</td>\n",
       "      <td>No</td>\n",
       "      <td>No</td>\n",
       "      <td>5.14</td>\n",
       "      <td>230.0</td>\n",
       "      <td>230.0</td>\n",
       "      <td>2020</td>\n",
       "      <td>3</td>\n",
       "      <td>26</td>\n",
       "    </tr>\n",
       "    <tr>\n",
       "      <td>4845</td>\n",
       "      <td>No</td>\n",
       "      <td>0.0</td>\n",
       "      <td>No</td>\n",
       "      <td>0.0</td>\n",
       "      <td>No</td>\n",
       "      <td>No</td>\n",
       "      <td>No</td>\n",
       "      <td>17.00</td>\n",
       "      <td>No</td>\n",
       "      <td>No</td>\n",
       "      <td>...</td>\n",
       "      <td>No</td>\n",
       "      <td>0.00</td>\n",
       "      <td>No</td>\n",
       "      <td>No</td>\n",
       "      <td>8.50</td>\n",
       "      <td>240.0</td>\n",
       "      <td>230.0</td>\n",
       "      <td>2020</td>\n",
       "      <td>3</td>\n",
       "      <td>27</td>\n",
       "    </tr>\n",
       "    <tr>\n",
       "      <td>4846</td>\n",
       "      <td>No</td>\n",
       "      <td>0.0</td>\n",
       "      <td>No</td>\n",
       "      <td>0.0</td>\n",
       "      <td>No</td>\n",
       "      <td>No</td>\n",
       "      <td>No</td>\n",
       "      <td>18.12</td>\n",
       "      <td>No</td>\n",
       "      <td>No</td>\n",
       "      <td>...</td>\n",
       "      <td>No</td>\n",
       "      <td>0.00</td>\n",
       "      <td>No</td>\n",
       "      <td>No</td>\n",
       "      <td>7.16</td>\n",
       "      <td>280.0</td>\n",
       "      <td>280.0</td>\n",
       "      <td>2020</td>\n",
       "      <td>3</td>\n",
       "      <td>30</td>\n",
       "    </tr>\n",
       "  </tbody>\n",
       "</table>\n",
       "<p>4847 rows × 30 columns</p>\n",
       "</div>"
      ],
      "text/plain": [
       "     fogground  snowfall dust  snowdepth mist drizzle hail  \\\n",
       "0           No       0.0   No        0.0  Yes      No   No   \n",
       "1           No       0.0   No        0.0   No      No   No   \n",
       "2           No       0.0   No        0.0   No      No   No   \n",
       "3           No       0.0   No        0.0   No      No   No   \n",
       "4           No       0.0   No        0.0   No      No   No   \n",
       "...        ...       ...  ...        ...  ...     ...  ...   \n",
       "4842        No       0.0   No        0.0   No      No   No   \n",
       "4843        No       0.0   No        0.0   No      No   No   \n",
       "4844        No       0.0   No        0.0   No      No   No   \n",
       "4845        No       0.0   No        0.0   No      No   No   \n",
       "4846        No       0.0   No        0.0   No      No   No   \n",
       "\n",
       "      fastest2minwindspeed thunder glaze  ... highwind precipitation fogheavy  \\\n",
       "0                    17.90      No    No  ...       No          0.13       No   \n",
       "1                    23.04      No    No  ...       No          0.00       No   \n",
       "2                    21.03      No    No  ...       No          0.00       No   \n",
       "3                    23.94      No    No  ...       No          0.00       No   \n",
       "4                    16.11      No    No  ...       No          0.00       No   \n",
       "...                    ...     ...   ...  ...      ...           ...      ...   \n",
       "4842                 23.94      No    No  ...       No          0.00       No   \n",
       "4843                 17.00     Yes    No  ...       No          0.86       No   \n",
       "4844                 14.99      No    No  ...       No          0.00       No   \n",
       "4845                 17.00      No    No  ...       No          0.00       No   \n",
       "4846                 18.12      No    No  ...       No          0.00       No   \n",
       "\n",
       "      smokehaze  avgwindspeed fastest2minwinddir  fastest5secwinddir  \\\n",
       "0            No          8.05              230.0               230.0   \n",
       "1            No          7.61              280.0               270.0   \n",
       "2            No          8.50              230.0               230.0   \n",
       "3            No         13.20              230.0               230.0   \n",
       "4            No          4.92              290.0               320.0   \n",
       "...         ...           ...                ...                 ...   \n",
       "4842         No         11.41              230.0               230.0   \n",
       "4843         No          7.16              280.0               280.0   \n",
       "4844         No          5.14              230.0               230.0   \n",
       "4845         No          8.50              240.0               230.0   \n",
       "4846         No          7.16              280.0               280.0   \n",
       "\n",
       "     date_year date_month date_day  \n",
       "0         2007          1        6  \n",
       "1         2007          1        9  \n",
       "2         2007          1       14  \n",
       "3         2007          1       15  \n",
       "4         2007          1       20  \n",
       "...        ...        ...      ...  \n",
       "4842      2020          3        9  \n",
       "4843      2020          3       25  \n",
       "4844      2020          3       26  \n",
       "4845      2020          3       27  \n",
       "4846      2020          3       30  \n",
       "\n",
       "[4847 rows x 30 columns]"
      ]
     },
     "execution_count": 6,
     "metadata": {},
     "output_type": "execute_result"
    }
   ],
   "source": [
    "#Dropping date column\n",
    "data=data.drop('date',1)\n",
    "data"
   ]
  },
  {
   "cell_type": "markdown",
   "metadata": {},
   "source": [
    "# Feature Encoding"
   ]
  },
  {
   "cell_type": "code",
   "execution_count": 7,
   "metadata": {},
   "outputs": [
    {
     "data": {
      "text/plain": [
       "{'No': 0, 'Yes': 1}"
      ]
     },
     "execution_count": 7,
     "metadata": {},
     "output_type": "execute_result"
    }
   ],
   "source": [
    "#Encoding only the target variable to 0 and 1\n",
    "np.unique(data['rain'])\n",
    "mapping={label:idx for idx, label in enumerate(np.unique(data['rain']))}\n",
    "mapping\n"
   ]
  },
  {
   "cell_type": "code",
   "execution_count": 8,
   "metadata": {},
   "outputs": [],
   "source": [
    "#merging rain column after encoding\n",
    "data['rain']=data['rain'].map(mapping)\n"
   ]
  },
  {
   "cell_type": "code",
   "execution_count": 9,
   "metadata": {},
   "outputs": [],
   "source": [
    "#list of catogorical featres to be encoded\n",
    "todummy_list=['fogground','dust','mist','drizzle','hail','thunder','glaze','snow','ice','fog','freezingfog','blowingsnow','freezingrain','highwind','fogheavy','smokehaze']"
   ]
  },
  {
   "cell_type": "code",
   "execution_count": 10,
   "metadata": {},
   "outputs": [],
   "source": [
    "#Encoding the features by adding dummies\n",
    "def dummy_df(data, todummy_list):\n",
    "    for x in todummy_list:\n",
    "        dummies=pd.get_dummies(data[x], prefix=x, dummy_na=False)\n",
    "        data=data.drop(x,1)\n",
    "        data=pd.concat([data,dummies],axis=1)\n",
    "    return data\n"
   ]
  },
  {
   "cell_type": "code",
   "execution_count": 11,
   "metadata": {},
   "outputs": [
    {
     "name": "stdout",
     "output_type": "stream",
     "text": [
      "   snowfall  snowdepth  fastest2minwindspeed  temperaturemin  \\\n",
      "0       0.0        0.0                 17.90            50.0   \n",
      "1       0.0        0.0                 23.04            30.0   \n",
      "2       0.0        0.0                 21.03            50.0   \n",
      "3       0.0        0.0                 23.94            57.0   \n",
      "4       0.0        0.0                 16.11            26.1   \n",
      "\n",
      "   fastest5secwindspeed  temperaturemax  rain  precipitation  avgwindspeed  \\\n",
      "0                 21.92            71.1     1           0.13          8.05   \n",
      "1                 29.08            55.0     1           0.00          7.61   \n",
      "2                 25.05            73.9     0           0.00          8.50   \n",
      "3                 29.08            73.9     0           0.00         13.20   \n",
      "4                 21.03            48.0     0           0.00          4.92   \n",
      "\n",
      "   fastest2minwinddir  ...  blowingsnow_No  blowingsnow_Yes  freezingrain_No  \\\n",
      "0               230.0  ...               1                0                1   \n",
      "1               280.0  ...               1                0                1   \n",
      "2               230.0  ...               1                0                1   \n",
      "3               230.0  ...               1                0                1   \n",
      "4               290.0  ...               1                0                1   \n",
      "\n",
      "   freezingrain_Yes  highwind_No  highwind_Yes  fogheavy_No  fogheavy_Yes  \\\n",
      "0                 0            1             0            1             0   \n",
      "1                 0            1             0            1             0   \n",
      "2                 0            1             0            1             0   \n",
      "3                 0            1             0            1             0   \n",
      "4                 0            1             0            1             0   \n",
      "\n",
      "   smokehaze_No  smokehaze_Yes  \n",
      "0             1              0  \n",
      "1             1              0  \n",
      "2             1              0  \n",
      "3             1              0  \n",
      "4             1              0  \n",
      "\n",
      "[5 rows x 46 columns]\n"
     ]
    }
   ],
   "source": [
    "#Merging the dummy variables with the data\n",
    "df=dummy_df(data,todummy_list)\n",
    "print(df.head(5))\n"
   ]
  },
  {
   "cell_type": "markdown",
   "metadata": {},
   "source": [
    "# Handling missing values"
   ]
  },
  {
   "cell_type": "code",
   "execution_count": 12,
   "metadata": {},
   "outputs": [],
   "source": [
    "#imputer to handle missing values\n",
    "imp = SimpleImputer(missing_values=np.nan, strategy='median')\n",
    "imp.fit(df)\n",
    "df=pd.DataFrame(data=imp.transform(df),columns=df.columns)"
   ]
  },
  {
   "cell_type": "markdown",
   "metadata": {},
   "source": [
    "#imputer\n",
    "from sklearn.preprocessing import Imputer\n",
    "imp=Imputer(missing_values='NaN',strategy='median',axis=0)\n",
    "imp.fit(df)\n",
    "df=pd.DataFrame(data=imp.transform(df),columns=df.columns)"
   ]
  },
  {
   "cell_type": "code",
   "execution_count": 13,
   "metadata": {},
   "outputs": [
    {
     "data": {
      "text/plain": [
       "snowfall                0\n",
       "snowdepth               0\n",
       "fastest2minwindspeed    0\n",
       "temperaturemin          0\n",
       "fastest5secwindspeed    0\n",
       "temperaturemax          0\n",
       "rain                    0\n",
       "precipitation           0\n",
       "avgwindspeed            0\n",
       "fastest2minwinddir      0\n",
       "fastest5secwinddir      0\n",
       "date_year               0\n",
       "date_month              0\n",
       "date_day                0\n",
       "fogground_No            0\n",
       "fogground_Yes           0\n",
       "dust_No                 0\n",
       "dust_Yes                0\n",
       "mist_No                 0\n",
       "mist_Yes                0\n",
       "drizzle_No              0\n",
       "drizzle_Yes             0\n",
       "hail_No                 0\n",
       "hail_Yes                0\n",
       "thunder_No              0\n",
       "thunder_Yes             0\n",
       "glaze_No                0\n",
       "glaze_Yes               0\n",
       "snow_No                 0\n",
       "snow_Yes                0\n",
       "ice_No                  0\n",
       "ice_Yes                 0\n",
       "fog_No                  0\n",
       "fog_Yes                 0\n",
       "freezingfog_No          0\n",
       "freezingfog_Yes         0\n",
       "blowingsnow_No          0\n",
       "blowingsnow_Yes         0\n",
       "freezingrain_No         0\n",
       "freezingrain_Yes        0\n",
       "highwind_No             0\n",
       "highwind_Yes            0\n",
       "fogheavy_No             0\n",
       "fogheavy_Yes            0\n",
       "smokehaze_No            0\n",
       "smokehaze_Yes           0\n",
       "dtype: int64"
      ]
     },
     "execution_count": 13,
     "metadata": {},
     "output_type": "execute_result"
    }
   ],
   "source": [
    "df.isnull().sum()"
   ]
  },
  {
   "cell_type": "code",
   "execution_count": 14,
   "metadata": {},
   "outputs": [],
   "source": [
    "#sPlitting the data into independent and dependent columns\n",
    "x=df.drop('rain',1) #dependent\n",
    "y=df.rain           #Independent"
   ]
  },
  {
   "cell_type": "markdown",
   "metadata": {},
   "source": [
    "# Exploratory Data Analysis"
   ]
  },
  {
   "cell_type": "code",
   "execution_count": 15,
   "metadata": {},
   "outputs": [
    {
     "data": {
      "text/plain": [
       "0.0    3974\n",
       "1.0     873\n",
       "Name: rain, dtype: int64"
      ]
     },
     "execution_count": 15,
     "metadata": {},
     "output_type": "execute_result"
    }
   ],
   "source": [
    "count_classes=pd.value_counts(df['rain'], sort= True)\n",
    "count_classes"
   ]
  },
  {
   "cell_type": "markdown",
   "metadata": {},
   "source": [
    "# Handling Imbalanced dataset - Under Sampling"
   ]
  },
  {
   "cell_type": "code",
   "execution_count": 16,
   "metadata": {},
   "outputs": [],
   "source": [
    "#machine learning algorith will get biased if there are imbalanced classes\n",
    "#choosing under sampling as we have more number of records.\n",
    "undersample = RandomUnderSampler(sampling_strategy='majority')\n",
    "x,y = undersample.fit_resample(x,y)\n",
    "\n",
    "\n"
   ]
  },
  {
   "cell_type": "code",
   "execution_count": 17,
   "metadata": {},
   "outputs": [],
   "source": [
    "#splitting data into test set and train set\n",
    "from sklearn.model_selection import train_test_split\n",
    "x_train, x_test, y_train, y_test = train_test_split(x, y, test_size=0.3, random_state=1)\n"
   ]
  },
  {
   "cell_type": "code",
   "execution_count": 18,
   "metadata": {},
   "outputs": [
    {
     "data": {
      "text/plain": [
       "'\\nfrom sklearn.tree import DecisionTreeClassifier\\nfrom sklearn.metrics import accuracy_score\\nimport sklearn.metrics as metrics\\nfrom sklearn.ensemble import RandomForestClassifier\\nfrom sklearn.feature_selection import RFE\\nfor index in range(1,42):\\n    sel= RFE(RandomForestClassifier(n_estimators=100, random_state=0, n_jobs=-1), n_features_to_select=index)\\n    sel.fit(x_train, y_train)\\n    x_train_rfe=sel.transform(x_train)\\n    x_test_rfe=sel.transform(x_test)\\n    print(\"selected feature\", index )\\n    clf = RandomForestClassifier(n_estimators=100, bootstrap = True, max_features = \\'sqrt\\')\\n    clf = clf.fit(x_train_rfe,y_train)\\n    y_pred_gini = clf.predict(x_test_rfe)\\n    print(\"Accuracy:\", metrics.accuracy_score(y_test, y_pred_gini)*100,\"%\")\\n    '"
      ]
     },
     "execution_count": 18,
     "metadata": {},
     "output_type": "execute_result"
    }
   ],
   "source": [
    "#To select the maximum performing feature set\n",
    "'''\n",
    "from sklearn.tree import DecisionTreeClassifier\n",
    "from sklearn.metrics import accuracy_score\n",
    "import sklearn.metrics as metrics\n",
    "from sklearn.ensemble import RandomForestClassifier\n",
    "from sklearn.feature_selection import RFE\n",
    "for index in range(1,42):\n",
    "    sel= RFE(RandomForestClassifier(n_estimators=100, random_state=0, n_jobs=-1), n_features_to_select=index)\n",
    "    sel.fit(x_train, y_train)\n",
    "    x_train_rfe=sel.transform(x_train)\n",
    "    x_test_rfe=sel.transform(x_test)\n",
    "    print(\"selected feature\", index )\n",
    "    clf = RandomForestClassifier(n_estimators=100, bootstrap = True, max_features = 'sqrt')\n",
    "    clf = clf.fit(x_train_rfe,y_train)\n",
    "    y_pred_gini = clf.predict(x_test_rfe)\n",
    "    print(\"Accuracy:\", metrics.accuracy_score(y_test, y_pred_gini)*100,\"%\")\n",
    "    '''"
   ]
  },
  {
   "cell_type": "markdown",
   "metadata": {},
   "source": [
    "# Feature Selection"
   ]
  },
  {
   "cell_type": "code",
   "execution_count": 19,
   "metadata": {},
   "outputs": [
    {
     "data": {
      "text/plain": [
       "RFE(estimator=RandomForestClassifier(bootstrap=True, ccp_alpha=0.0,\n",
       "                                     class_weight=None, criterion='gini',\n",
       "                                     max_depth=None, max_features='auto',\n",
       "                                     max_leaf_nodes=None, max_samples=None,\n",
       "                                     min_impurity_decrease=0.0,\n",
       "                                     min_impurity_split=None,\n",
       "                                     min_samples_leaf=1, min_samples_split=2,\n",
       "                                     min_weight_fraction_leaf=0.0,\n",
       "                                     n_estimators=100, n_jobs=-1,\n",
       "                                     oob_score=False, random_state=0, verbose=0,\n",
       "                                     warm_start=False),\n",
       "    n_features_to_select=13, step=1, verbose=0)"
      ]
     },
     "execution_count": 19,
     "metadata": {},
     "output_type": "execute_result"
    }
   ],
   "source": [
    "#Feature selection by Recursive Feature elimination(RFE) with random forest\n",
    "#This is how we select number of features to improve accuracy and reduce the training time\n",
    "from sklearn.feature_selection import RFE\n",
    "from sklearn.ensemble import RandomForestClassifier\n",
    "sel= RFE(RandomForestClassifier(n_estimators=100, random_state=0, n_jobs=-1), n_features_to_select=13)\n",
    "sel.fit(x_train, y_train)\n"
   ]
  },
  {
   "cell_type": "code",
   "execution_count": 20,
   "metadata": {},
   "outputs": [],
   "source": [
    "#fitting into RFE\n",
    "x_train_rfe=sel.transform(x_train)\n",
    "x_test_rfe=sel.transform(x_test)"
   ]
  },
  {
   "cell_type": "markdown",
   "metadata": {},
   "source": [
    "# Feature Scaling"
   ]
  },
  {
   "cell_type": "code",
   "execution_count": 21,
   "metadata": {},
   "outputs": [],
   "source": [
    "#feature scaling(-1 and 1) will make alogorithm fast to run\n",
    "sc_x=StandardScaler()\n",
    "x_train=sc_x.fit_transform(x_train_rfe)\n",
    "x_test=sc_x.transform(x_test_rfe)"
   ]
  },
  {
   "cell_type": "markdown",
   "metadata": {},
   "source": [
    "# Applying Model and evaluation"
   ]
  },
  {
   "cell_type": "code",
   "execution_count": 22,
   "metadata": {},
   "outputs": [
    {
     "name": "stdout",
     "output_type": "stream",
     "text": [
      "Accuracy: 91.98473282442748 %\n",
      "Confusion matrix:\n",
      "[[250  13]\n",
      " [ 29 232]]\n",
      "Classification report:\n",
      "              precision    recall  f1-score   support\n",
      "\n",
      "         0.0       0.90      0.95      0.92       263\n",
      "         1.0       0.95      0.89      0.92       261\n",
      "\n",
      "    accuracy                           0.92       524\n",
      "   macro avg       0.92      0.92      0.92       524\n",
      "weighted avg       0.92      0.92      0.92       524\n",
      "\n"
     ]
    }
   ],
   "source": [
    "clf = RandomForestClassifier(n_estimators=100, bootstrap = True, max_features = 'sqrt')# Creating Random Forest Classifier object\n",
    "clf = clf.fit(x_train,y_train)  # Train Random Forest Classifier\n",
    "y_pred= clf.predict(x_test)    #Predict the response for test dataset\n",
    "print(\"Accuracy:\", metrics.accuracy_score(y_test, y_pred)*100,\"%\")   # Model Accuracy, how often is the classifier correct?\n",
    "print(\"Confusion matrix:\")\n",
    "print(confusion_matrix(y_test, y_pred))\n",
    "print(\"Classification report:\")\n",
    "print(classification_report(y_test, y_pred))"
   ]
  },
  {
   "cell_type": "code",
   "execution_count": 23,
   "metadata": {},
   "outputs": [
    {
     "data": {
      "image/png": "[encoded data removed]",
      "text/plain": [
       "<Figure size 720x720 with 1 Axes>"
      ]
     },
     "metadata": {
      "needs_background": "light"
     },
     "output_type": "display_data"
    }
   ],
   "source": [
    "# Plot Receiving Operating Characteristic Curve\n",
    "# Create true and false positive rates\n",
    "false_positive_rate1, true_positive_rate1, threshold1 = roc_curve(y_test, y_pred)\n",
    "plt.subplots(1, figsize=(10,10))\n",
    "plt.title('Receiver Operating Characteristic - DecisionTree')\n",
    "plt.plot(false_positive_rate1, true_positive_rate1)\n",
    "plt.plot([0, 1], ls=\"--\")\n",
    "plt.plot([0, 0], [1, 0] , c=\".7\"), plt.plot([1, 1] , c=\".7\")\n",
    "plt.ylabel('True Positive Rate')\n",
    "plt.xlabel('False Positive Rate')\n",
    "plt.show()"
   ]
  },
  {
   "cell_type": "code",
   "execution_count": 24,
   "metadata": {},
   "outputs": [
    {
     "name": "stdout",
     "output_type": "stream",
     "text": [
      "Evatulation accuracy with K-fold cross validation: 90.10129281620684 %\n"
     ]
    }
   ],
   "source": [
    "#applying k-fold cross validation to check model performance\n",
    "#we will get 10 accoracies based 10 test set\n",
    "accuracies= cross_val_score(estimator=clf, X = x_train, y = y_train, cv=10)\n",
    "print(\"Evatulation accuracy with K-fold cross validation:\",accuracies.mean()*100,\"%\")"
   ]
  },
  {
   "cell_type": "code",
   "execution_count": 25,
   "metadata": {},
   "outputs": [
    {
     "name": "stdout",
     "output_type": "stream",
     "text": [
      "Accuracy: 0.976 (0.014)\n"
     ]
    }
   ],
   "source": [
    "#ROC\n",
    "results = cross_val_score(estimator=clf, X = x_train, y = y_train, cv=10, scoring='roc_auc')\n",
    "print(\"Accuracy: %.3f (%.3f)\" % (results.mean(), results.std()))"
   ]
  },
  {
   "cell_type": "code",
   "execution_count": 26,
   "metadata": {},
   "outputs": [
    {
     "name": "stdout",
     "output_type": "stream",
     "text": [
      "Accuracy: -0.203 (0.049)\n"
     ]
    }
   ],
   "source": [
    "#neg_log_loss\n",
    "results = cross_val_score(estimator=clf, X = x_train, y = y_train, cv=10, scoring='neg_log_loss')\n",
    "print(\"Accuracy: %.3f (%.3f)\" % (results.mean(), results.std()))"
   ]
  }
 ],
 "metadata": {
  "kernelspec": {
   "display_name": "Python 3",
   "language": "python",
   "name": "python3"
  },
  "language_info": {
   "codemirror_mode": {
    "name": "ipython",
    "version": 3
   },
   "file_extension": ".py",
   "mimetype": "text/x-python",
   "name": "python",
   "nbconvert_exporter": "python",
   "pygments_lexer": "ipython3",
   "version": "3.7.4"
  }
 },
 "nbformat": 4,
 "nbformat_minor": 2
}
