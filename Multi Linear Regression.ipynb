{
 "cells": [
  {
   "cell_type": "code",
   "execution_count": 1,
   "metadata": {},
   "outputs": [],
   "source": [
    "import numpy as np\n",
    "import pandas as pd\n",
    "import matplotlib.pyplot as plt\n",
    "import seaborn as sns\n",
    "%matplotlib inline\n",
    "from sklearn.impute import SimpleImputer\n",
    "from sklearn.model_selection import train_test_split\n",
    "import sklearn.feature_selection\n",
    "from sklearn.preprocessing import StandardScaler\n",
    "import seaborn as seabornInstance "
   ]
  },
  {
   "cell_type": "markdown",
   "metadata": {},
   "source": [
    "# Importing Data"
   ]
  },
  {
   "cell_type": "code",
   "execution_count": 2,
   "metadata": {},
   "outputs": [
    {
     "name": "stdout",
     "output_type": "stream",
     "text": [
      "  fogground  snowfall dust  snowdepth mist drizzle hail  fastest2minwindspeed  \\\n",
      "0        No       0.0   No        0.0  Yes      No   No                 17.90   \n",
      "1        No       0.0   No        0.0   No      No   No                 23.04   \n",
      "2        No       0.0   No        0.0   No      No   No                 21.03   \n",
      "3        No       0.0   No        0.0   No      No   No                 23.94   \n",
      "4        No       0.0   No        0.0   No      No   No                 16.11   \n",
      "\n",
      "  thunder glaze  ... freezingrain rain highwind        date  precipitation  \\\n",
      "0      No    No  ...           No  Yes       No  2007-01-06           0.13   \n",
      "1      No    No  ...           No  Yes       No  2007-01-09           0.00   \n",
      "2      No    No  ...           No   No       No  2007-01-14           0.00   \n",
      "3      No    No  ...           No   No       No  2007-01-15           0.00   \n",
      "4      No    No  ...           No   No       No  2007-01-20           0.00   \n",
      "\n",
      "  fogheavy  smokehaze avgwindspeed fastest2minwinddir fastest5secwinddir  \n",
      "0       No         No         8.05              230.0              230.0  \n",
      "1       No         No         7.61              280.0              270.0  \n",
      "2       No         No         8.50              230.0              230.0  \n",
      "3       No         No        13.20              230.0              230.0  \n",
      "4       No         No         4.92              290.0              320.0  \n",
      "\n",
      "[5 rows x 28 columns]\n",
      "(4847, 28)\n"
     ]
    }
   ],
   "source": [
    "data=pd.read_csv(\"C:/Users/hp/Desktop/new/local-weather.csv\")\n",
    "print(data.head(5))\n",
    "print(data.shape)"
   ]
  },
  {
   "cell_type": "markdown",
   "metadata": {},
   "source": [
    "# Handling Duplicate Values"
   ]
  },
  {
   "cell_type": "code",
   "execution_count": 3,
   "metadata": {},
   "outputs": [
    {
     "data": {
      "text/plain": [
       "0"
      ]
     },
     "execution_count": 3,
     "metadata": {},
     "output_type": "execute_result"
    }
   ],
   "source": [
    "#Checking Duplicate records\n",
    "dup=data.duplicated()\n",
    "sum(dup)"
   ]
  },
  {
   "cell_type": "markdown",
   "metadata": {},
   "source": [
    "# Feature Transformation- date column"
   ]
  },
  {
   "cell_type": "code",
   "execution_count": 4,
   "metadata": {},
   "outputs": [],
   "source": [
    "#converting date column to datatime\n",
    "data['date'] = pd.to_datetime(data['date'])"
   ]
  },
  {
   "cell_type": "code",
   "execution_count": 5,
   "metadata": {},
   "outputs": [],
   "source": [
    "#Splitting date into 3 seperate coloumns year, month and da\n",
    "data['date_year']= data['date'].dt.year\n",
    "data['date_month']= data['date'].dt.month\n",
    "data['date_day']= data['date'].dt.day"
   ]
  },
  {
   "cell_type": "code",
   "execution_count": 6,
   "metadata": {},
   "outputs": [],
   "source": [
    "#Dropping date column\n",
    "data=data.drop('date',1)"
   ]
  },
  {
   "cell_type": "code",
   "execution_count": 7,
   "metadata": {},
   "outputs": [
    {
     "data": {
      "text/html": [
       "<div>\n",
       "<style scoped>\n",
       "    .dataframe tbody tr th:only-of-type {\n",
       "        vertical-align: middle;\n",
       "    }\n",
       "\n",
       "    .dataframe tbody tr th {\n",
       "        vertical-align: top;\n",
       "    }\n",
       "\n",
       "    .dataframe thead th {\n",
       "        text-align: right;\n",
       "    }\n",
       "</style>\n",
       "<table border=\"1\" class=\"dataframe\">\n",
       "  <thead>\n",
       "    <tr style=\"text-align: right;\">\n",
       "      <th></th>\n",
       "      <th>fogground</th>\n",
       "      <th>snowfall</th>\n",
       "      <th>dust</th>\n",
       "      <th>snowdepth</th>\n",
       "      <th>mist</th>\n",
       "      <th>drizzle</th>\n",
       "      <th>hail</th>\n",
       "      <th>fastest2minwindspeed</th>\n",
       "      <th>thunder</th>\n",
       "      <th>glaze</th>\n",
       "      <th>...</th>\n",
       "      <th>highwind</th>\n",
       "      <th>precipitation</th>\n",
       "      <th>fogheavy</th>\n",
       "      <th>smokehaze</th>\n",
       "      <th>avgwindspeed</th>\n",
       "      <th>fastest2minwinddir</th>\n",
       "      <th>fastest5secwinddir</th>\n",
       "      <th>date_year</th>\n",
       "      <th>date_month</th>\n",
       "      <th>date_day</th>\n",
       "    </tr>\n",
       "  </thead>\n",
       "  <tbody>\n",
       "    <tr>\n",
       "      <td>0</td>\n",
       "      <td>No</td>\n",
       "      <td>0.0</td>\n",
       "      <td>No</td>\n",
       "      <td>0.0</td>\n",
       "      <td>Yes</td>\n",
       "      <td>No</td>\n",
       "      <td>No</td>\n",
       "      <td>17.90</td>\n",
       "      <td>No</td>\n",
       "      <td>No</td>\n",
       "      <td>...</td>\n",
       "      <td>No</td>\n",
       "      <td>0.13</td>\n",
       "      <td>No</td>\n",
       "      <td>No</td>\n",
       "      <td>8.05</td>\n",
       "      <td>230.0</td>\n",
       "      <td>230.0</td>\n",
       "      <td>2007</td>\n",
       "      <td>1</td>\n",
       "      <td>6</td>\n",
       "    </tr>\n",
       "    <tr>\n",
       "      <td>1</td>\n",
       "      <td>No</td>\n",
       "      <td>0.0</td>\n",
       "      <td>No</td>\n",
       "      <td>0.0</td>\n",
       "      <td>No</td>\n",
       "      <td>No</td>\n",
       "      <td>No</td>\n",
       "      <td>23.04</td>\n",
       "      <td>No</td>\n",
       "      <td>No</td>\n",
       "      <td>...</td>\n",
       "      <td>No</td>\n",
       "      <td>0.00</td>\n",
       "      <td>No</td>\n",
       "      <td>No</td>\n",
       "      <td>7.61</td>\n",
       "      <td>280.0</td>\n",
       "      <td>270.0</td>\n",
       "      <td>2007</td>\n",
       "      <td>1</td>\n",
       "      <td>9</td>\n",
       "    </tr>\n",
       "    <tr>\n",
       "      <td>2</td>\n",
       "      <td>No</td>\n",
       "      <td>0.0</td>\n",
       "      <td>No</td>\n",
       "      <td>0.0</td>\n",
       "      <td>No</td>\n",
       "      <td>No</td>\n",
       "      <td>No</td>\n",
       "      <td>21.03</td>\n",
       "      <td>No</td>\n",
       "      <td>No</td>\n",
       "      <td>...</td>\n",
       "      <td>No</td>\n",
       "      <td>0.00</td>\n",
       "      <td>No</td>\n",
       "      <td>No</td>\n",
       "      <td>8.50</td>\n",
       "      <td>230.0</td>\n",
       "      <td>230.0</td>\n",
       "      <td>2007</td>\n",
       "      <td>1</td>\n",
       "      <td>14</td>\n",
       "    </tr>\n",
       "    <tr>\n",
       "      <td>3</td>\n",
       "      <td>No</td>\n",
       "      <td>0.0</td>\n",
       "      <td>No</td>\n",
       "      <td>0.0</td>\n",
       "      <td>No</td>\n",
       "      <td>No</td>\n",
       "      <td>No</td>\n",
       "      <td>23.94</td>\n",
       "      <td>No</td>\n",
       "      <td>No</td>\n",
       "      <td>...</td>\n",
       "      <td>No</td>\n",
       "      <td>0.00</td>\n",
       "      <td>No</td>\n",
       "      <td>No</td>\n",
       "      <td>13.20</td>\n",
       "      <td>230.0</td>\n",
       "      <td>230.0</td>\n",
       "      <td>2007</td>\n",
       "      <td>1</td>\n",
       "      <td>15</td>\n",
       "    </tr>\n",
       "    <tr>\n",
       "      <td>4</td>\n",
       "      <td>No</td>\n",
       "      <td>0.0</td>\n",
       "      <td>No</td>\n",
       "      <td>0.0</td>\n",
       "      <td>No</td>\n",
       "      <td>No</td>\n",
       "      <td>No</td>\n",
       "      <td>16.11</td>\n",
       "      <td>No</td>\n",
       "      <td>No</td>\n",
       "      <td>...</td>\n",
       "      <td>No</td>\n",
       "      <td>0.00</td>\n",
       "      <td>No</td>\n",
       "      <td>No</td>\n",
       "      <td>4.92</td>\n",
       "      <td>290.0</td>\n",
       "      <td>320.0</td>\n",
       "      <td>2007</td>\n",
       "      <td>1</td>\n",
       "      <td>20</td>\n",
       "    </tr>\n",
       "    <tr>\n",
       "      <td>...</td>\n",
       "      <td>...</td>\n",
       "      <td>...</td>\n",
       "      <td>...</td>\n",
       "      <td>...</td>\n",
       "      <td>...</td>\n",
       "      <td>...</td>\n",
       "      <td>...</td>\n",
       "      <td>...</td>\n",
       "      <td>...</td>\n",
       "      <td>...</td>\n",
       "      <td>...</td>\n",
       "      <td>...</td>\n",
       "      <td>...</td>\n",
       "      <td>...</td>\n",
       "      <td>...</td>\n",
       "      <td>...</td>\n",
       "      <td>...</td>\n",
       "      <td>...</td>\n",
       "      <td>...</td>\n",
       "      <td>...</td>\n",
       "      <td>...</td>\n",
       "    </tr>\n",
       "    <tr>\n",
       "      <td>4842</td>\n",
       "      <td>No</td>\n",
       "      <td>0.0</td>\n",
       "      <td>No</td>\n",
       "      <td>0.0</td>\n",
       "      <td>No</td>\n",
       "      <td>No</td>\n",
       "      <td>No</td>\n",
       "      <td>23.94</td>\n",
       "      <td>No</td>\n",
       "      <td>No</td>\n",
       "      <td>...</td>\n",
       "      <td>No</td>\n",
       "      <td>0.00</td>\n",
       "      <td>No</td>\n",
       "      <td>No</td>\n",
       "      <td>11.41</td>\n",
       "      <td>230.0</td>\n",
       "      <td>230.0</td>\n",
       "      <td>2020</td>\n",
       "      <td>3</td>\n",
       "      <td>9</td>\n",
       "    </tr>\n",
       "    <tr>\n",
       "      <td>4843</td>\n",
       "      <td>No</td>\n",
       "      <td>0.0</td>\n",
       "      <td>No</td>\n",
       "      <td>0.0</td>\n",
       "      <td>No</td>\n",
       "      <td>No</td>\n",
       "      <td>No</td>\n",
       "      <td>17.00</td>\n",
       "      <td>Yes</td>\n",
       "      <td>No</td>\n",
       "      <td>...</td>\n",
       "      <td>No</td>\n",
       "      <td>0.86</td>\n",
       "      <td>No</td>\n",
       "      <td>No</td>\n",
       "      <td>7.16</td>\n",
       "      <td>280.0</td>\n",
       "      <td>280.0</td>\n",
       "      <td>2020</td>\n",
       "      <td>3</td>\n",
       "      <td>25</td>\n",
       "    </tr>\n",
       "    <tr>\n",
       "      <td>4844</td>\n",
       "      <td>No</td>\n",
       "      <td>0.0</td>\n",
       "      <td>No</td>\n",
       "      <td>0.0</td>\n",
       "      <td>No</td>\n",
       "      <td>No</td>\n",
       "      <td>No</td>\n",
       "      <td>14.99</td>\n",
       "      <td>No</td>\n",
       "      <td>No</td>\n",
       "      <td>...</td>\n",
       "      <td>No</td>\n",
       "      <td>0.00</td>\n",
       "      <td>No</td>\n",
       "      <td>No</td>\n",
       "      <td>5.14</td>\n",
       "      <td>230.0</td>\n",
       "      <td>230.0</td>\n",
       "      <td>2020</td>\n",
       "      <td>3</td>\n",
       "      <td>26</td>\n",
       "    </tr>\n",
       "    <tr>\n",
       "      <td>4845</td>\n",
       "      <td>No</td>\n",
       "      <td>0.0</td>\n",
       "      <td>No</td>\n",
       "      <td>0.0</td>\n",
       "      <td>No</td>\n",
       "      <td>No</td>\n",
       "      <td>No</td>\n",
       "      <td>17.00</td>\n",
       "      <td>No</td>\n",
       "      <td>No</td>\n",
       "      <td>...</td>\n",
       "      <td>No</td>\n",
       "      <td>0.00</td>\n",
       "      <td>No</td>\n",
       "      <td>No</td>\n",
       "      <td>8.50</td>\n",
       "      <td>240.0</td>\n",
       "      <td>230.0</td>\n",
       "      <td>2020</td>\n",
       "      <td>3</td>\n",
       "      <td>27</td>\n",
       "    </tr>\n",
       "    <tr>\n",
       "      <td>4846</td>\n",
       "      <td>No</td>\n",
       "      <td>0.0</td>\n",
       "      <td>No</td>\n",
       "      <td>0.0</td>\n",
       "      <td>No</td>\n",
       "      <td>No</td>\n",
       "      <td>No</td>\n",
       "      <td>18.12</td>\n",
       "      <td>No</td>\n",
       "      <td>No</td>\n",
       "      <td>...</td>\n",
       "      <td>No</td>\n",
       "      <td>0.00</td>\n",
       "      <td>No</td>\n",
       "      <td>No</td>\n",
       "      <td>7.16</td>\n",
       "      <td>280.0</td>\n",
       "      <td>280.0</td>\n",
       "      <td>2020</td>\n",
       "      <td>3</td>\n",
       "      <td>30</td>\n",
       "    </tr>\n",
       "  </tbody>\n",
       "</table>\n",
       "<p>4847 rows × 30 columns</p>\n",
       "</div>"
      ],
      "text/plain": [
       "     fogground  snowfall dust  snowdepth mist drizzle hail  \\\n",
       "0           No       0.0   No        0.0  Yes      No   No   \n",
       "1           No       0.0   No        0.0   No      No   No   \n",
       "2           No       0.0   No        0.0   No      No   No   \n",
       "3           No       0.0   No        0.0   No      No   No   \n",
       "4           No       0.0   No        0.0   No      No   No   \n",
       "...        ...       ...  ...        ...  ...     ...  ...   \n",
       "4842        No       0.0   No        0.0   No      No   No   \n",
       "4843        No       0.0   No        0.0   No      No   No   \n",
       "4844        No       0.0   No        0.0   No      No   No   \n",
       "4845        No       0.0   No        0.0   No      No   No   \n",
       "4846        No       0.0   No        0.0   No      No   No   \n",
       "\n",
       "      fastest2minwindspeed thunder glaze  ... highwind precipitation fogheavy  \\\n",
       "0                    17.90      No    No  ...       No          0.13       No   \n",
       "1                    23.04      No    No  ...       No          0.00       No   \n",
       "2                    21.03      No    No  ...       No          0.00       No   \n",
       "3                    23.94      No    No  ...       No          0.00       No   \n",
       "4                    16.11      No    No  ...       No          0.00       No   \n",
       "...                    ...     ...   ...  ...      ...           ...      ...   \n",
       "4842                 23.94      No    No  ...       No          0.00       No   \n",
       "4843                 17.00     Yes    No  ...       No          0.86       No   \n",
       "4844                 14.99      No    No  ...       No          0.00       No   \n",
       "4845                 17.00      No    No  ...       No          0.00       No   \n",
       "4846                 18.12      No    No  ...       No          0.00       No   \n",
       "\n",
       "      smokehaze  avgwindspeed fastest2minwinddir  fastest5secwinddir  \\\n",
       "0            No          8.05              230.0               230.0   \n",
       "1            No          7.61              280.0               270.0   \n",
       "2            No          8.50              230.0               230.0   \n",
       "3            No         13.20              230.0               230.0   \n",
       "4            No          4.92              290.0               320.0   \n",
       "...         ...           ...                ...                 ...   \n",
       "4842         No         11.41              230.0               230.0   \n",
       "4843         No          7.16              280.0               280.0   \n",
       "4844         No          5.14              230.0               230.0   \n",
       "4845         No          8.50              240.0               230.0   \n",
       "4846         No          7.16              280.0               280.0   \n",
       "\n",
       "     date_year date_month date_day  \n",
       "0         2007          1        6  \n",
       "1         2007          1        9  \n",
       "2         2007          1       14  \n",
       "3         2007          1       15  \n",
       "4         2007          1       20  \n",
       "...        ...        ...      ...  \n",
       "4842      2020          3        9  \n",
       "4843      2020          3       25  \n",
       "4844      2020          3       26  \n",
       "4845      2020          3       27  \n",
       "4846      2020          3       30  \n",
       "\n",
       "[4847 rows x 30 columns]"
      ]
     },
     "execution_count": 7,
     "metadata": {},
     "output_type": "execute_result"
    }
   ],
   "source": [
    "data"
   ]
  },
  {
   "cell_type": "markdown",
   "metadata": {},
   "source": [
    "# Feature Encoding"
   ]
  },
  {
   "cell_type": "code",
   "execution_count": 8,
   "metadata": {},
   "outputs": [],
   "source": [
    "#list of catogorical featres to be encoded\n",
    "todummy_list=['fogground','dust','mist','drizzle','rain','hail','thunder','glaze','snow','ice','fog','freezingfog','blowingsnow','freezingrain','highwind','fogheavy','smokehaze']"
   ]
  },
  {
   "cell_type": "code",
   "execution_count": 9,
   "metadata": {},
   "outputs": [],
   "source": [
    "#Encoding the features by adding dummies\n",
    "def dummy_df(data, todummy_list):\n",
    "    for x in todummy_list:\n",
    "        dummies=pd.get_dummies(data[x], prefix=x, dummy_na=False)\n",
    "        data=data.drop(x,1)\n",
    "        data=pd.concat([data,dummies],axis=1)\n",
    "    return data"
   ]
  },
  {
   "cell_type": "code",
   "execution_count": 10,
   "metadata": {},
   "outputs": [
    {
     "name": "stdout",
     "output_type": "stream",
     "text": [
      "   snowfall  snowdepth  fastest2minwindspeed  temperaturemin  \\\n",
      "0       0.0        0.0                 17.90            50.0   \n",
      "1       0.0        0.0                 23.04            30.0   \n",
      "2       0.0        0.0                 21.03            50.0   \n",
      "3       0.0        0.0                 23.94            57.0   \n",
      "4       0.0        0.0                 16.11            26.1   \n",
      "\n",
      "   fastest5secwindspeed  temperaturemax  precipitation  avgwindspeed  \\\n",
      "0                 21.92            71.1           0.13          8.05   \n",
      "1                 29.08            55.0           0.00          7.61   \n",
      "2                 25.05            73.9           0.00          8.50   \n",
      "3                 29.08            73.9           0.00         13.20   \n",
      "4                 21.03            48.0           0.00          4.92   \n",
      "\n",
      "   fastest2minwinddir  fastest5secwinddir  ...  blowingsnow_No  \\\n",
      "0               230.0               230.0  ...               1   \n",
      "1               280.0               270.0  ...               1   \n",
      "2               230.0               230.0  ...               1   \n",
      "3               230.0               230.0  ...               1   \n",
      "4               290.0               320.0  ...               1   \n",
      "\n",
      "   blowingsnow_Yes  freezingrain_No  freezingrain_Yes  highwind_No  \\\n",
      "0                0                1                 0            1   \n",
      "1                0                1                 0            1   \n",
      "2                0                1                 0            1   \n",
      "3                0                1                 0            1   \n",
      "4                0                1                 0            1   \n",
      "\n",
      "   highwind_Yes  fogheavy_No  fogheavy_Yes  smokehaze_No  smokehaze_Yes  \n",
      "0             0            1             0             1              0  \n",
      "1             0            1             0             1              0  \n",
      "2             0            1             0             1              0  \n",
      "3             0            1             0             1              0  \n",
      "4             0            1             0             1              0  \n",
      "\n",
      "[5 rows x 47 columns]\n"
     ]
    }
   ],
   "source": [
    "#Merging the dummy variables with the data\n",
    "df=dummy_df(data,todummy_list)\n",
    "print(df.head(5))"
   ]
  },
  {
   "cell_type": "markdown",
   "metadata": {},
   "source": [
    "# Handling Missing Values"
   ]
  },
  {
   "cell_type": "code",
   "execution_count": 11,
   "metadata": {},
   "outputs": [],
   "source": [
    "#imputer to handle missing values\n",
    "imp = SimpleImputer(missing_values=np.nan, strategy='median')\n",
    "imp.fit(df)\n",
    "df=pd.DataFrame(data=imp.transform(df),columns=df.columns)"
   ]
  },
  {
   "cell_type": "code",
   "execution_count": 12,
   "metadata": {},
   "outputs": [
    {
     "data": {
      "text/plain": [
       "snowfall                0\n",
       "snowdepth               0\n",
       "fastest2minwindspeed    0\n",
       "temperaturemin          0\n",
       "fastest5secwindspeed    0\n",
       "temperaturemax          0\n",
       "precipitation           0\n",
       "avgwindspeed            0\n",
       "fastest2minwinddir      0\n",
       "fastest5secwinddir      0\n",
       "date_year               0\n",
       "date_month              0\n",
       "date_day                0\n",
       "fogground_No            0\n",
       "fogground_Yes           0\n",
       "dust_No                 0\n",
       "dust_Yes                0\n",
       "mist_No                 0\n",
       "mist_Yes                0\n",
       "drizzle_No              0\n",
       "drizzle_Yes             0\n",
       "rain_No                 0\n",
       "rain_Yes                0\n",
       "hail_No                 0\n",
       "hail_Yes                0\n",
       "thunder_No              0\n",
       "thunder_Yes             0\n",
       "glaze_No                0\n",
       "glaze_Yes               0\n",
       "snow_No                 0\n",
       "snow_Yes                0\n",
       "ice_No                  0\n",
       "ice_Yes                 0\n",
       "fog_No                  0\n",
       "fog_Yes                 0\n",
       "freezingfog_No          0\n",
       "freezingfog_Yes         0\n",
       "blowingsnow_No          0\n",
       "blowingsnow_Yes         0\n",
       "freezingrain_No         0\n",
       "freezingrain_Yes        0\n",
       "highwind_No             0\n",
       "highwind_Yes            0\n",
       "fogheavy_No             0\n",
       "fogheavy_Yes            0\n",
       "smokehaze_No            0\n",
       "smokehaze_Yes           0\n",
       "dtype: int64"
      ]
     },
     "execution_count": 12,
     "metadata": {},
     "output_type": "execute_result"
    }
   ],
   "source": [
    "df.isnull().sum()"
   ]
  },
  {
   "cell_type": "code",
   "execution_count": 13,
   "metadata": {},
   "outputs": [
    {
     "data": {
      "text/plain": [
       "0       71.1\n",
       "1       55.0\n",
       "2       73.9\n",
       "3       73.9\n",
       "4       48.0\n",
       "        ... \n",
       "4842    69.1\n",
       "4843    57.0\n",
       "4844    61.0\n",
       "4845    81.0\n",
       "4846    77.0\n",
       "Name: temperaturemax, Length: 4847, dtype: float64"
      ]
     },
     "execution_count": 13,
     "metadata": {},
     "output_type": "execute_result"
    }
   ],
   "source": [
    "df.temperaturemax"
   ]
  },
  {
   "cell_type": "markdown",
   "metadata": {},
   "source": [
    "# Outlier Detection"
   ]
  },
  {
   "cell_type": "code",
   "execution_count": 14,
   "metadata": {},
   "outputs": [
    {
     "data": {
      "text/plain": [
       "<matplotlib.axes._subplots.AxesSubplot at 0x27bdf2d4a08>"
      ]
     },
     "execution_count": 14,
     "metadata": {},
     "output_type": "execute_result"
    },
    {
     "data": {
      "image/png": "[encoded data removed]",
      "text/plain": [
       "<Figure size 1080x720 with 1 Axes>"
      ]
     },
     "metadata": {
      "needs_background": "light"
     },
     "output_type": "display_data"
    }
   ],
   "source": [
    "plt.figure(figsize=(15,10))\n",
    "plt.tight_layout()\n",
    "seabornInstance.distplot(df.temperaturemax)"
   ]
  },
  {
   "cell_type": "code",
   "execution_count": 15,
   "metadata": {},
   "outputs": [],
   "source": [
    "#sPlitting the data into independent and dependent columns\n",
    "x=df.drop('temperaturemax',1) #dependent\n",
    "y=df.temperaturemax         #Independent"
   ]
  },
  {
   "cell_type": "code",
   "execution_count": null,
   "metadata": {
    "scrolled": false
   },
   "outputs": [],
   "source": []
  },
  {
   "cell_type": "code",
   "execution_count": null,
   "metadata": {},
   "outputs": [],
   "source": []
  },
  {
   "cell_type": "code",
   "execution_count": 16,
   "metadata": {},
   "outputs": [
    {
     "data": {
      "text/plain": [
       "(4847, 46)"
      ]
     },
     "execution_count": 16,
     "metadata": {},
     "output_type": "execute_result"
    }
   ],
   "source": [
    "x.shape"
   ]
  },
  {
   "cell_type": "code",
   "execution_count": 17,
   "metadata": {},
   "outputs": [
    {
     "name": "stdout",
     "output_type": "stream",
     "text": [
      "(4847, 30)\n",
      "(4847, 46)\n"
     ]
    }
   ],
   "source": [
    "\n",
    "x_train, x_test, y_train, y_test=train_test_split(x,y, train_size=0.70, random_state=1)\n",
    "print(data.shape)\n",
    "print(x.shape)"
   ]
  },
  {
   "cell_type": "markdown",
   "metadata": {},
   "source": [
    "# Feature Selection"
   ]
  },
  {
   "cell_type": "code",
   "execution_count": 18,
   "metadata": {},
   "outputs": [],
   "source": [
    "select=sklearn.feature_selection.SelectKBest(k=22)\n",
    "selected_features=select.fit(x_train,y_train)\n",
    "indices_selected=selected_features.get_support(indices=True)\n",
    "colnames_selected=[x.columns[i] for i in indices_selected]\n",
    "x_train=x_train[colnames_selected]\n",
    "x_test=x_test[colnames_selected]"
   ]
  },
  {
   "cell_type": "code",
   "execution_count": 19,
   "metadata": {},
   "outputs": [
    {
     "data": {
      "text/plain": [
       "['snowfall',\n",
       " 'snowdepth',\n",
       " 'fastest2minwindspeed',\n",
       " 'temperaturemin',\n",
       " 'avgwindspeed',\n",
       " 'date_month',\n",
       " 'drizzle_No',\n",
       " 'drizzle_Yes',\n",
       " 'thunder_No',\n",
       " 'thunder_Yes',\n",
       " 'glaze_No',\n",
       " 'glaze_Yes',\n",
       " 'snow_No',\n",
       " 'snow_Yes',\n",
       " 'ice_No',\n",
       " 'ice_Yes',\n",
       " 'freezingfog_No',\n",
       " 'freezingfog_Yes',\n",
       " 'freezingrain_No',\n",
       " 'freezingrain_Yes',\n",
       " 'smokehaze_No',\n",
       " 'smokehaze_Yes']"
      ]
     },
     "execution_count": 19,
     "metadata": {},
     "output_type": "execute_result"
    }
   ],
   "source": [
    "colnames_selected"
   ]
  },
  {
   "cell_type": "markdown",
   "metadata": {},
   "source": [
    "# Feature Scaling"
   ]
  },
  {
   "cell_type": "code",
   "execution_count": 20,
   "metadata": {},
   "outputs": [],
   "source": [
    "#feature scaling(-1 and 1) will make alogorithm fast to run\n",
    "sc_x=StandardScaler()\n",
    "x_train=sc_x.fit_transform(x_train)\n",
    "x_test=sc_x.transform(x_test)"
   ]
  },
  {
   "cell_type": "markdown",
   "metadata": {},
   "source": [
    "# Applying Linear Regression model"
   ]
  },
  {
   "cell_type": "code",
   "execution_count": 21,
   "metadata": {},
   "outputs": [],
   "source": [
    "\n",
    "from sklearn.linear_model import LinearRegression\n",
    "regressor = LinearRegression()\n",
    "regressor.fit(x_train,y_train)\n",
    "y_pred= regressor.predict(x_test)\n",
    "\n"
   ]
  },
  {
   "cell_type": "code",
   "execution_count": 22,
   "metadata": {},
   "outputs": [
    {
     "name": "stdout",
     "output_type": "stream",
     "text": [
      "      Actual  Predicted\n",
      "910     84.0  77.936381\n",
      "1715    90.0  91.268412\n",
      "4701    91.9  86.811381\n",
      "2776    75.9  84.045756\n",
      "4285    93.0  90.444193\n",
      "3600    55.9  52.174662\n",
      "200     96.1  91.819193\n",
      "772     88.0  80.645609\n",
      "4300    72.0  68.491068\n",
      "4079    55.9  62.108256\n"
     ]
    }
   ],
   "source": [
    "df = pd.DataFrame({'Actual': y_test, 'Predicted': y_pred})\n",
    "print(df.head(10))\n",
    "df1=df.head(10)"
   ]
  },
  {
   "cell_type": "code",
   "execution_count": 23,
   "metadata": {},
   "outputs": [
    {
     "data": {
      "image/png": "[encoded data removed]",
      "text/plain": [
       "<Figure size 720x576 with 1 Axes>"
      ]
     },
     "metadata": {
      "needs_background": "light"
     },
     "output_type": "display_data"
    }
   ],
   "source": [
    "df1.plot(kind='bar',figsize=(10,8))\n",
    "plt.grid(which='major', linestyle='-', linewidth='0.5', color='green')\n",
    "plt.grid(which='minor', linestyle=':', linewidth='0.5', color='black')\n",
    "plt.show()"
   ]
  },
  {
   "cell_type": "code",
   "execution_count": 24,
   "metadata": {},
   "outputs": [
    {
     "name": "stdout",
     "output_type": "stream",
     "text": [
      "Intercept: \n",
      " 72.08408601305324\n",
      "Root Mean Square Error \n",
      " 6.403236864151143\n",
      "R^2 Value: \n",
      " 84.5176126973423 %\n"
     ]
    }
   ],
   "source": [
    "from sklearn.metrics import mean_squared_error\n",
    "from sklearn.metrics import r2_score\n",
    "# Root Mean Squared Deviation\n",
    "rmsd = np.sqrt(mean_squared_error(y_test, y_pred))      \n",
    "r2_value = r2_score(y_test, y_pred)                     \n",
    "\n",
    "print(\"Intercept: \\n\", regressor.intercept_)\n",
    "print(\"Root Mean Square Error \\n\", rmsd)\n",
    "print(\"R^2 Value: \\n\", r2_value*100,\"%\")"
   ]
  },
  {
   "cell_type": "code",
   "execution_count": 25,
   "metadata": {},
   "outputs": [
    {
     "name": "stdout",
     "output_type": "stream",
     "text": [
      "neg_mean_absolute_error: -5.174 (0.228)\n"
     ]
    }
   ],
   "source": [
    "from sklearn.model_selection import cross_val_score\n",
    "results = cross_val_score(regressor,X = x_train, y = y_train, cv=10, scoring='neg_mean_absolute_error')\n",
    "print(\"neg_mean_absolute_error: %.3f (%.3f)\" % (results.mean(), results.std()))"
   ]
  },
  {
   "cell_type": "code",
   "execution_count": 26,
   "metadata": {},
   "outputs": [
    {
     "name": "stdout",
     "output_type": "stream",
     "text": [
      "neg_mean_squared_error: -42.458 (3.622)\n"
     ]
    }
   ],
   "source": [
    "\n",
    "results = cross_val_score(regressor,X = x_train, y = y_train, cv=10, scoring='neg_mean_squared_error')\n",
    "print(\"neg_mean_squared_error: %.3f (%.3f)\" % (results.mean(), results.std()))"
   ]
  }
 ],
 "metadata": {
  "kernelspec": {
   "display_name": "Python 3",
   "language": "python",
   "name": "python3"
  },
  "language_info": {
   "codemirror_mode": {
    "name": "ipython",
    "version": 3
   },
   "file_extension": ".py",
   "mimetype": "text/x-python",
   "name": "python",
   "nbconvert_exporter": "python",
   "pygments_lexer": "ipython3",
   "version": "3.7.4"
  }
 },
 "nbformat": 4,
 "nbformat_minor": 2
}
